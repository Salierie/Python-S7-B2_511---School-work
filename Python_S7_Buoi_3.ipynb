{
  "nbformat": 4,
  "nbformat_minor": 0,
  "metadata": {
    "colab": {
      "provenance": [],
      "authorship_tag": "ABX9TyOAlfAkJuLz2ZhYbjAz/Obw",
      "include_colab_link": true
    },
    "kernelspec": {
      "name": "python3",
      "display_name": "Python 3"
    },
    "language_info": {
      "name": "python"
    }
  },
  "cells": [
    {
      "cell_type": "markdown",
      "metadata": {
        "id": "view-in-github",
        "colab_type": "text"
      },
      "source": [
        "<a href=\"https://colab.research.google.com/github/Salierie/Python-S7-B2_511---School-work/blob/main/Python_S7_Buoi_3.ipynb\" target=\"_parent\"><img src=\"https://colab.research.google.com/assets/colab-badge.svg\" alt=\"Open In Colab\"/></a>"
      ]
    },
    {
      "cell_type": "markdown",
      "source": [
        "# Buoi 3 - 1"
      ],
      "metadata": {
        "id": "HYA1ulkFjCjP"
      }
    },
    {
      "cell_type": "code",
      "execution_count": null,
      "metadata": {
        "colab": {
          "base_uri": "https://localhost:8080/"
        },
        "id": "dd3IHwa9hg9T",
        "outputId": "8591d14f-9068-422b-fa2b-c83766af8272"
      },
      "outputs": [
        {
          "output_type": "stream",
          "name": "stdout",
          "text": [
            "Enter the base length of triangle: 4\n",
            "Enter the height of triangle: 13\n",
            "Area of triangle: 26.0\n"
          ]
        }
      ],
      "source": [
        "#.1\n",
        "def Area_of_triangle(base: float, height: float):\n",
        "  return f'Area of triangle: {str(0.5*base*height)[:4]}'\n",
        "\n",
        "base = float(input('Enter the base length of triangle: '))\n",
        "height = float(input('Enter the height of triangle: '))\n",
        "print(Area_of_triangle(base, height))"
      ]
    },
    {
      "cell_type": "code",
      "source": [
        "#.2\n",
        "def Perimeter_of_triangle(side_a, side_b, side_c: float):\n",
        "  return side_a + side_b + side_c\n",
        "\n",
        "side_a = float(input('Enter the first side of triangle: '))\n",
        "side_b = float(input('Enter the second side of triangle: '))\n",
        "side_c = float(input('Enter the third side of triangle: '))\n",
        "print(f'Perimeter of triangle: {str(Perimeter_of_triangle(side_a, side_b, side_c))[:4]}')\n"
      ],
      "metadata": {
        "colab": {
          "base_uri": "https://localhost:8080/"
        },
        "id": "JcmtntuciHRr",
        "outputId": "3c609cd0-936f-4768-e12b-82cd51be1452"
      },
      "execution_count": null,
      "outputs": [
        {
          "output_type": "stream",
          "name": "stdout",
          "text": [
            "Enter the first side of triangle: 3\n",
            "Enter the second side of triangle: 4\n",
            "Enter the third side of triangle: 5\n",
            "Perimeter of triangle: 12.0\n"
          ]
        }
      ]
    },
    {
      "cell_type": "code",
      "source": [
        "#.3\n",
        "def Area_of_rectangle(length, width: float):\n",
        "  return f'Area of rectangle: {str(length*width)[:4]}'\n",
        "\n",
        "length = float(input('Enter the length of rectangle: '))\n",
        "width = float(input('Enter the width of rectangle: '))\n",
        "print(Area_of_rectangle(length, width))\n"
      ],
      "metadata": {
        "colab": {
          "base_uri": "https://localhost:8080/"
        },
        "id": "Wl9eDZs4ivoI",
        "outputId": "4c1fd00e-821a-432c-8745-3b3517ef6cd4"
      },
      "execution_count": null,
      "outputs": [
        {
          "output_type": "stream",
          "name": "stdout",
          "text": [
            "Enter the length of rectangle: 3\n",
            "Enter the width of rectangle: 3\n",
            "Area of rectangle: 9.0\n"
          ]
        }
      ]
    },
    {
      "cell_type": "code",
      "source": [
        "#.4\n",
        "def Area_n_Perimeter_of_circle(radius: float):\n",
        "  return f'Area of circle: {str(3.14*radius**2)[:4]}\\nPerimeter of circle: {str(2*3.14*radius)[:4]}'\n",
        "\n",
        "radius = float(input('Enter the radius of circle: '))\n",
        "print(Area_n_Perimeter_of_circle(radius))\n"
      ],
      "metadata": {
        "colab": {
          "base_uri": "https://localhost:8080/"
        },
        "id": "Xp75O8uti6cm",
        "outputId": "261da1e5-e91e-44fd-ddf0-d0c4ad53b876"
      },
      "execution_count": null,
      "outputs": [
        {
          "output_type": "stream",
          "name": "stdout",
          "text": [
            "Enter the radius of circle: 44\n",
            "Area of circle: 6079\n",
            "Perimeter of circle: 276.\n"
          ]
        }
      ]
    },
    {
      "cell_type": "code",
      "source": [
        "#.5 Calculate the slope, x-intercept and y-intercept of y = 2x -2\n",
        "def Calculate_the_slope(x1, y1, x2, y2: float):\n",
        "  return f'Slope is {(y2-y1)/(x2-x1)}'\n",
        "\n",
        "print(Calculate_the_slope(1, 2, 2, 2))\n"
      ],
      "metadata": {
        "colab": {
          "base_uri": "https://localhost:8080/"
        },
        "id": "UEYyHGSDkki8",
        "outputId": "8737411a-31f7-46ab-b77e-c2e70131a6e7"
      },
      "execution_count": null,
      "outputs": [
        {
          "output_type": "stream",
          "name": "stdout",
          "text": [
            "Slope is 0.0\n"
          ]
        }
      ]
    },
    {
      "cell_type": "code",
      "source": [
        "#.6 Slope is (m = y2-y1/x2-x1). Find the slope and Euclidean distance between point (2, 2) and point (6,10)\n",
        "def Euclidean_distance(x1, y1, x2, y2: float):\n",
        "  return f'Euclidean distance: {str(((x2-x1)**2+(y2-y1)**2)**0.5)[:4]}'\n",
        "\n",
        "print(Euclidean_distance(2, 2, 6, 10))\n"
      ],
      "metadata": {
        "colab": {
          "base_uri": "https://localhost:8080/"
        },
        "id": "qAPQLVwijZsH",
        "outputId": "90914703-a040-4adf-bb24-a2eabdf86afe"
      },
      "execution_count": null,
      "outputs": [
        {
          "output_type": "stream",
          "name": "stdout",
          "text": [
            "Euclidean distance: 8.94\n"
          ]
        }
      ]
    },
    {
      "cell_type": "code",
      "source": [
        "#.8 Calculate the value of y (y = x^2 + 6x + 9). Try to use different x values and figure out at what x value y is going to be 0.\n",
        "def Calculate_the_value_of_y(x: float):\n",
        "  return f'Value of y: {str(x**2+6*x+9)[:4]}'\n",
        "\n",
        "x = float(input('Enter the value of x: '))\n",
        "print(Calculate_the_value_of_y(x))"
      ],
      "metadata": {
        "colab": {
          "base_uri": "https://localhost:8080/"
        },
        "id": "is9Baa_5kib2",
        "outputId": "a0c1518f-59f5-4d7d-be5b-29b45757dac5"
      },
      "execution_count": null,
      "outputs": [
        {
          "output_type": "stream",
          "name": "stdout",
          "text": [
            "Enter the value of x: 3\n",
            "Value of y: 36.0\n"
          ]
        }
      ]
    },
    {
      "cell_type": "code",
      "source": [
        "#.9 Find the length of 'python' and 'dragon' and make a falsy comparison statement.\n",
        "# WHAT???????????????"
      ],
      "metadata": {
        "id": "xJE8LX3RlL2U"
      },
      "execution_count": null,
      "outputs": []
    },
    {
      "cell_type": "code",
      "source": [
        "#.10"
      ],
      "metadata": {
        "id": "QugFl_0GlhWC"
      },
      "execution_count": null,
      "outputs": []
    },
    {
      "cell_type": "code",
      "source": [
        "#.11\n",
        "import re\n",
        "def Jargon_checker(sentence:str):\n",
        "  words_list = re.sub(r\"[^A-Za-z ]\", \"\", sentence).split(\" \")\n",
        "  bool = False\n",
        "  for c in words_list:\n",
        "    bool = True if (c == 'Jargon') else False\n",
        "    if (bool == True): return bool\n",
        "  return bool\n",
        "\n",
        "text = \"\"\"An old willow with hollow branches\n",
        "slowly swayed his few high gright tendrils\n",
        "and sang:\n",
        "\n",
        "Love is a young green willow\n",
        "shimmering at the bare wood’s edge. Jargon \"\"\"\n",
        "print(Jargon_checker(text))"
      ],
      "metadata": {
        "colab": {
          "base_uri": "https://localhost:8080/"
        },
        "id": "CP0vN4t0lmHC",
        "outputId": "191fb522-9a20-4176-fb6e-8d14fffa19f3"
      },
      "execution_count": null,
      "outputs": [
        {
          "output_type": "stream",
          "name": "stdout",
          "text": [
            "True\n"
          ]
        }
      ]
    },
    {
      "cell_type": "code",
      "source": [
        "#.12 Clear all Cathy"
      ],
      "metadata": {
        "id": "oRyqwCMAmYiy"
      },
      "execution_count": null,
      "outputs": []
    },
    {
      "cell_type": "code",
      "source": [
        "#.13\n",
        "def What_is_the_whole_point_of_this(text: str):\n",
        "  return f'{float(len(text))}\\n{str(len(text))}'\n",
        "print(What_is_the_whole_point_of_this('Python'))"
      ],
      "metadata": {
        "colab": {
          "base_uri": "https://localhost:8080/"
        },
        "id": "Km-mBKvdorav",
        "outputId": "cb9a0d94-94ce-457f-d606-59ef2e1392e4"
      },
      "execution_count": null,
      "outputs": [
        {
          "output_type": "stream",
          "name": "stdout",
          "text": [
            "6.0\n",
            "6\n"
          ]
        }
      ]
    },
    {
      "cell_type": "code",
      "source": [
        "#.14\n",
        "def Even_number_checker(num: int):\n",
        "  return True if (num % 2 == 0) else False\n",
        "print(Even_number_checker(10))"
      ],
      "metadata": {
        "colab": {
          "base_uri": "https://localhost:8080/"
        },
        "id": "AUXb9LxhpYZu",
        "outputId": "a543778c-f586-4388-fb6e-19fde48cc2d2"
      },
      "execution_count": null,
      "outputs": [
        {
          "output_type": "stream",
          "name": "stdout",
          "text": [
            "True\n"
          ]
        }
      ]
    },
    {
      "cell_type": "code",
      "source": [
        "#.15\n",
        "def Person_pay_per_hour(rate, hours: int):\n",
        "  return f'This person pay after {hours} hours: ${rate*hours}'\n",
        "print(Person_pay_per_hour(100, 15))"
      ],
      "metadata": {
        "colab": {
          "base_uri": "https://localhost:8080/"
        },
        "id": "hEZmfCrlplyN",
        "outputId": "9a1ae671-69ee-4d58-ff2a-6ed91f7c1a06"
      },
      "execution_count": null,
      "outputs": [
        {
          "output_type": "stream",
          "name": "stdout",
          "text": [
            "This person pay after 15 hours: $1500\n"
          ]
        }
      ]
    },
    {
      "cell_type": "code",
      "source": [
        "#.16\n",
        "def Calculate_a_person_live_in_seconds(years: int):\n",
        "  return f'This person live in {years*365*24*60*60} seconds'\n",
        "print(Calculate_a_person_live_in_seconds(100))"
      ],
      "metadata": {
        "colab": {
          "base_uri": "https://localhost:8080/"
        },
        "id": "DiJeo64LqGDd",
        "outputId": "c76251d8-c085-4271-c0b9-b02616dd35e9"
      },
      "execution_count": null,
      "outputs": [
        {
          "output_type": "stream",
          "name": "stdout",
          "text": [
            "This person live in 3153600000 seconds\n"
          ]
        }
      ]
    },
    {
      "cell_type": "markdown",
      "source": [
        "# Buoi 3 - 2: If statement"
      ],
      "metadata": {
        "id": "ZW6w-ZNOqm09"
      }
    },
    {
      "cell_type": "code",
      "source": [
        "#.1\n",
        "def Voting_eligible_check(age: int):\n",
        "  return True if (age >= 18) else False\n",
        "print(Voting_eligible_check(18))"
      ],
      "metadata": {
        "id": "T6TmTDjOqjeb",
        "outputId": "12d98c48-3ca7-4261-ec70-fd6dfa71cb6a",
        "colab": {
          "base_uri": "https://localhost:8080/"
        }
      },
      "execution_count": 1,
      "outputs": [
        {
          "output_type": "stream",
          "name": "stdout",
          "text": [
            "True\n"
          ]
        }
      ]
    },
    {
      "cell_type": "code",
      "source": [
        "#.2\n",
        "def Odd_even_checker(num: int):\n",
        "  return \"Even\" if (num % 2 == 0) else \"Odd\"\n",
        "print(Odd_even_checker(10))"
      ],
      "metadata": {
        "id": "SMgLd6b-rzAL",
        "outputId": "139e9591-7d50-472a-8866-0cdb76f6f9a8",
        "colab": {
          "base_uri": "https://localhost:8080/"
        }
      },
      "execution_count": 2,
      "outputs": [
        {
          "output_type": "stream",
          "name": "stdout",
          "text": [
            "Even\n"
          ]
        }
      ]
    },
    {
      "cell_type": "code",
      "source": [
        "#.3\n",
        "def Divisible_7_check(num: int):\n",
        "  return True if (num % 7 == 0) else False\n",
        "\n",
        "print(Divisible_7_check(21))"
      ],
      "metadata": {
        "id": "A4VSibs9sAfr",
        "outputId": "e83765b1-3819-4574-890d-3570654a171f",
        "colab": {
          "base_uri": "https://localhost:8080/"
        }
      },
      "execution_count": 4,
      "outputs": [
        {
          "output_type": "stream",
          "name": "stdout",
          "text": [
            "True\n"
          ]
        }
      ]
    },
    {
      "cell_type": "code",
      "source": [
        "#.4\n",
        "def Divisible_3_check(num: int):\n",
        "  return True if (num % 3 == 0) else False\n",
        "print(Divisible_3_check(int(input('Please end my suffering: '))))"
      ],
      "metadata": {
        "id": "6S6AUFT1sFvO",
        "outputId": "c9e8de82-d2bb-4187-9fdf-e45d72f3ec00",
        "colab": {
          "base_uri": "https://localhost:8080/"
        }
      },
      "execution_count": 6,
      "outputs": [
        {
          "output_type": "stream",
          "name": "stdout",
          "text": [
            "Please end my suffering: 9\n",
            "True\n"
          ]
        }
      ]
    },
    {
      "cell_type": "code",
      "source": [
        "#.5 wot?"
      ],
      "metadata": {
        "id": "XSoDmtgYsVmq"
      },
      "execution_count": 7,
      "outputs": []
    },
    {
      "cell_type": "code",
      "source": [
        "#.6\n",
        "def Calendar_bullshit(num: int):\n",
        "  calendar_map = {1: \"Sunday\", 2: \"Monday\", 3: \"Tuesday\", 4: \"Wednesday\", 5: \"Thursday\", 6: \"Friday\", 7: \"Saturday\"}\n",
        "  return calendar_map[num]\n",
        "print(Calendar_bullshit(int(input('Enter a number from 1 to 7: '))))"
      ],
      "metadata": {
        "id": "_boowxWvse5q",
        "outputId": "21e0b439-8a35-4a1c-f4ea-054eefaa99e5",
        "colab": {
          "base_uri": "https://localhost:8080/"
        }
      },
      "execution_count": 9,
      "outputs": [
        {
          "output_type": "stream",
          "name": "stdout",
          "text": [
            "Enter a number from 1 to 7: 7\n",
            "Saturday\n"
          ]
        }
      ]
    },
    {
      "cell_type": "code",
      "source": [],
      "metadata": {
        "id": "GCnO38FdtblZ"
      },
      "execution_count": null,
      "outputs": []
    }
  ]
}