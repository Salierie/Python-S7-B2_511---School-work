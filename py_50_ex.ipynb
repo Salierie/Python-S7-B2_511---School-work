{
  "cells": [
    {
      "cell_type": "code",
      "execution_count": null,
      "metadata": {
        "id": "qah9Vo2EBtK0",
        "outputId": "e029732b-f42b-4564-ec34-d22d8375cdc6"
      },
      "outputs": [
        {
          "data": {
            "text/plain": [
              "'gu Trong Thang tham nhunL'"
            ]
          },
          "execution_count": 3,
          "metadata": {},
          "output_type": "execute_result"
        }
      ],
      "source": [
        "#.10 Exchange first and last chars's positions from given string\n",
        "def Char_exchange(text):\n",
        "   return text[-1] + text[1:-1] + text[0] if (text != None) else None\n",
        "\n",
        "text = \"Lu Trong Thang tham nhung\"\n",
        "Char_exchange(text)"
      ]
    },
    {
      "cell_type": "code",
      "execution_count": null,
      "metadata": {
        "id": "JTL2Y8fsBtK4",
        "outputId": "ec58ed9f-46b5-44b5-bfee-17d6947de369"
      },
      "outputs": [
        {
          "data": {
            "text/plain": [
              "'H h ihl hn udm'"
            ]
          },
          "execution_count": 14,
          "metadata": {},
          "output_type": "execute_result"
        }
      ],
      "source": [
        "#.11 Remove characters in the string with odd number index\n",
        "def Rm_odd_chars(text):\n",
        "    new_text = ''\n",
        "    for i in range(len(text)):\n",
        "        new_text = new_text + text[i] if(i % 2 == 0) else new_text+ ''\n",
        "    return new_text\n",
        "\n",
        "text = \"Ho Chi Minh la thang au dam\"\n",
        "Rm_odd_chars(text)"
      ]
    },
    {
      "cell_type": "code",
      "execution_count": null,
      "metadata": {
        "id": "LXh0OxULBtK5"
      },
      "outputs": [],
      "source": [
        "#.12 Print out the frequency of each word in a sentence\n",
        "import re\n",
        "def Word_freq(sentence):\n",
        "    freq_map = {}\n",
        "    sentence = re.sub(r\"[^A-Za-z ]\", \"\", sentence)\n",
        "    words_list = sentence.split(\" \")\n",
        "    for w in words_list:\n",
        "        count = 0\n",
        "        if (w not in freq_map.keys()):\n",
        "            count += 1\n",
        "            freq_map.update({w:count})\n",
        "        else:\n",
        "            freq_map[w] += 1\n",
        "            freq_map.update({w:freq_map[w]})\n",
        "    return freq_map\n",
        "\n",
        "sentence = \"\"\"\n",
        "Ozymandias - By Percy Bysshe Shelly\n",
        "\n",
        "I met a traveller from an antique land,\n",
        "Who said— “Two vast and trunkless legs of stone\n",
        "Stand in the desert. . . . Near them, on the sand,\n",
        "Half sunk a shattered visage lies, whose frown,\n",
        "And wrinkled lip, and sneer of cold command,\n",
        "Tell that its sculptor well those passions read\n",
        "Which yet survive, stamped on these lifeless things,\n",
        "The hand that mocked them, and the heart that fed;\n",
        "And on the pedestal, these words appear:\n",
        "My name is Ozymandias, King of Kings;\n",
        "Look on my Works, ye Mighty, and despair!\n",
        "Nothing beside remains. Round the decay\n",
        "Of that colossal Wreck, boundless and bare\n",
        "The lone and level sands stretch far away.\n",
        "\"\"\"\n",
        "\n",
        "Word_freq(sentence)"
      ]
    },
    {
      "cell_type": "code",
      "execution_count": null,
      "metadata": {
        "id": "TV45rhxJBtK5",
        "outputId": "64ef99f2-02a5-46f7-8b77-b8c908259bca"
      },
      "outputs": [
        {
          "data": {
            "text/plain": [
              "'<p>Ho may lam ho nhieu ten</p>'"
            ]
          },
          "execution_count": 34,
          "metadata": {},
          "output_type": "execute_result"
        }
      ],
      "source": [
        "#.13 Create HTML string from given tag and text\n",
        "def Add_tags(tag, text):\n",
        "    return f'<{tag}>{text}</{tag}>'\n",
        "\n",
        "text = \"Ho may lam ho nhieu ten\"\n",
        "Add_tags(\"p\",text)"
      ]
    },
    {
      "cell_type": "code",
      "execution_count": null,
      "metadata": {
        "id": "6RgBL8G4BtK6",
        "outputId": "957ea103-19c4-4572-a6ec-802ab8ad1ffe"
      },
      "outputs": [
        {
          "data": {
            "text/plain": [
              "'{{{A ti bac bi khao tra}}}'"
            ]
          },
          "execution_count": 44,
          "metadata": {},
          "output_type": "execute_result"
        }
      ],
      "source": [
        "#.14 Insert a string in the middle of another string\n",
        "def Insert_string_middle(text1, text2):\n",
        "    mid = len(text1)/2\n",
        "    return f'{text1[:int(mid)]}{text2}{text1[int(mid):]}'\n",
        "\n",
        "text1 = \"{{{}}}\"\n",
        "text2 = \"A ti bac bi khao tra\"\n",
        "Insert_string_middle(text1,text2)"
      ]
    },
    {
      "cell_type": "code",
      "execution_count": null,
      "metadata": {
        "id": "lI1PvOb8BtK6",
        "outputId": "13770e56-ec04-425f-d4fd-22ff836fabcd"
      },
      "outputs": [
        {
          "data": {
            "text/plain": [
              "'aiaiaiai'"
            ]
          },
          "execution_count": 56,
          "metadata": {},
          "output_type": "execute_result"
        }
      ],
      "source": [
        "#.15\n",
        "def Insert_end(text):\n",
        "    return \"\".join([text[-2:] for c in range(4)])\n",
        "\n",
        "text = \"Nguu dau ma dien cho la man khai\"\n",
        "Insert_end(text)"
      ]
    },
    {
      "cell_type": "code",
      "execution_count": null,
      "metadata": {
        "id": "tD1cQclRBtK7",
        "outputId": "7b8d984d-00b7-4171-8b2e-e775e3dc6e4c"
      },
      "outputs": [
        {
          "data": {
            "text/plain": [
              "'Ho '"
            ]
          },
          "execution_count": 60,
          "metadata": {},
          "output_type": "execute_result"
        }
      ],
      "source": [
        "#.16 Print out first three characters of a string\n",
        "def First_three(text):\n",
        "    return \"\".join(text[:3])\n",
        "\n",
        "text = \"Ho may song doi gian ta\"\n",
        "First_three(text)"
      ]
    },
    {
      "cell_type": "code",
      "execution_count": null,
      "metadata": {
        "id": "JvlNxhMgBtK8",
        "outputId": "ae3f8248-3129-4ae2-efe2-1d6c4751c92d"
      },
      "outputs": [
        {
          "data": {
            "text/plain": [
              "'atnaig cut peit yam gnaD ueN'"
            ]
          },
          "execution_count": 70,
          "metadata": {},
          "output_type": "execute_result"
        }
      ],
      "source": [
        "#.17 Reverse a string if the text length is a multiply of 4\n",
        "def Reverse_str(text):\n",
        "    return text[::-1] if (len(text)%4==0) else text\n",
        "\n",
        "text = \"Neu Dang may tiep tuc gianta\"\n",
        "Reverse_str(text)"
      ]
    },
    {
      "cell_type": "code",
      "execution_count": null,
      "metadata": {
        "id": "at69xla-BtK8",
        "outputId": "854e8696-e7a4-4135-b78f-7333b526c849"
      },
      "outputs": [
        {
          "data": {
            "text/plain": [
              "'aadfs'"
            ]
          },
          "execution_count": 88,
          "metadata": {},
          "output_type": "execute_result"
        }
      ],
      "source": [
        "#.18 To sort a string lexicographically.\n",
        "def Lexi_sort(text):\n",
        "    alphabet_map = {chr(96 + i): i for i in range(1, 27)}\n",
        "    text = str(text).lower()\n",
        "    text_list = list(text)\n",
        "    for i in range(len(text_list) - 1):\n",
        "        min_idx = i\n",
        "        for j in range(i + 1, len(text_list)):\n",
        "            if alphabet_map[text_list[j]] < alphabet_map[text_list[min_idx]]:\n",
        "                min_idx = j\n",
        "\n",
        "        text_list[i], text_list[min_idx] = text_list[min_idx], text_list[i]\n",
        "\n",
        "    return \"\".join(text_list)\n",
        "\n",
        "Lexi_sort(\"aasdf\")"
      ]
    },
    {
      "cell_type": "code",
      "execution_count": null,
      "metadata": {
        "id": "R2ac2ej9BtK9",
        "outputId": "5d91ac96-d70e-4cfc-fbf4-423d88eed52c"
      },
      "outputs": [
        {
          "data": {
            "text/plain": [
              "'wklqpdbqvhqelqfxsqtxdqwkdpqqxrl'"
            ]
          },
          "execution_count": 96,
          "metadata": {},
          "output_type": "execute_result"
        }
      ],
      "source": [
        "#.19 Ceasar cypher encrypter\n",
        "def Ceasar_enc(text:str, key:int):\n",
        "    text = str(text).lower()\n",
        "    cipher_text = \"\"\n",
        "    for i in range(len(text)):\n",
        "        char = text[i]\n",
        "        cipher_text += chr((ord(char) + key-97) % 26 + 97)\n",
        "\n",
        "    return cipher_text\n",
        "\n",
        "text = \"Thi may se bi cup qua tham nuoi\"\n",
        "Ceasar_enc(text, 3)"
      ]
    },
    {
      "cell_type": "code",
      "execution_count": null,
      "metadata": {
        "id": "V9dAE9K9BtK9",
        "outputId": "b469487d-dae9-4f22-9409-0249f7ce03a4"
      },
      "outputs": [
        {
          "data": {
            "text/plain": [
              "'ed uar hnim'"
            ]
          },
          "execution_count": 100,
          "metadata": {},
          "output_type": "execute_result"
        }
      ],
      "source": [
        "#.20 To reverse a string.\n",
        "def Str_reversal(text):\n",
        "    return \"\".join([text[len(text)-i-1] for i in range(len(text))])\n",
        "\n",
        "text = \"minh rau de\"\n",
        "Str_reversal(text)"
      ]
    },
    {
      "cell_type": "code",
      "execution_count": 19,
      "metadata": {
        "id": "hIjweqVLBtK9",
        "outputId": "9e279dd4-f08c-4614-99c4-8f9499ca5563",
        "colab": {
          "base_uri": "https://localhost:8080/",
          "height": 35
        }
      },
      "outputs": [
        {
          "output_type": "execute_result",
          "data": {
            "text/plain": [
              "'MANAGER ESQUIRE!'"
            ],
            "application/vnd.google.colaboratory.intrinsic+json": {
              "type": "string"
            }
          },
          "metadata": {},
          "execution_count": 19
        }
      ],
      "source": [
        "#.21 To uppercase if string has 2 or more uppercases in the first 4 characters\n",
        "def To_uppercase(text):\n",
        "  count = 0\n",
        "  for i in range(0,4):\n",
        "    if (ord(text[i]) >=65 and ord(text[i]) <= 90):\n",
        "      count += 1\n",
        "\n",
        "  return str(text).upper() if(count >= 2) else text\n",
        "\n",
        "text = \"ManAger esquire!\"\n",
        "To_uppercase(text)"
      ]
    },
    {
      "cell_type": "code",
      "source": [
        "#.22 To remove newline from string\n",
        "import re\n",
        "def Strip_newline(text):\n",
        "  return re.sub(r\"[\\n]\", \"\", text)\n",
        "\n",
        "text = \"Cha! Maganera\\n\"\n",
        "Strip_newline(text)"
      ],
      "metadata": {
        "id": "7_YO2TRgPJam",
        "outputId": "e14fe8b4-2dc5-4cb6-af6a-7d227f1257ab",
        "colab": {
          "base_uri": "https://localhost:8080/",
          "height": 35
        }
      },
      "execution_count": 29,
      "outputs": [
        {
          "output_type": "execute_result",
          "data": {
            "text/plain": [
              "'Cha! Maganera'"
            ],
            "application/vnd.google.colaboratory.intrinsic+json": {
              "type": "string"
            }
          },
          "metadata": {},
          "execution_count": 29
        }
      ]
    },
    {
      "cell_type": "code",
      "source": [
        "#.23 Display formatted text (width=50)\n",
        "import textwrap\n",
        "def Display_formatted_text(text):\n",
        "  return textwrap.fill(text, width=50)\n",
        "\n",
        "text = \"\"\"Epitaph\n",
        "An old willow with hollow branchess\n",
        "lowly swayed his few high gright tendrilsand sang:Love is a young green willowshimmering at the bare wood’s edge.\"\"\"\n",
        "Display_formatted_text(text)"
      ],
      "metadata": {
        "id": "zlRXr3QfRuCG",
        "outputId": "0b0087bc-7a74-40eb-a776-e5571aff1a69",
        "colab": {
          "base_uri": "https://localhost:8080/",
          "height": 35
        }
      },
      "execution_count": 30,
      "outputs": [
        {
          "output_type": "execute_result",
          "data": {
            "text/plain": [
              "'Epitaph An old willow with hollow branches slowly\\nswayed his few high gright tendrils and sang:\\nLove is a young green willow shimmering at the\\nbare wood’s edge.'"
            ],
            "application/vnd.google.colaboratory.intrinsic+json": {
              "type": "string"
            }
          },
          "metadata": {},
          "execution_count": 30
        }
      ]
    },
    {
      "cell_type": "code",
      "source": [],
      "metadata": {
        "id": "7UUQSz4cTPHg"
      },
      "execution_count": null,
      "outputs": []
    }
  ],
  "metadata": {
    "kernelspec": {
      "display_name": "Python 3",
      "language": "python",
      "name": "python3"
    },
    "language_info": {
      "codemirror_mode": {
        "name": "ipython",
        "version": 3
      },
      "file_extension": ".py",
      "mimetype": "text/x-python",
      "name": "python",
      "nbconvert_exporter": "python",
      "pygments_lexer": "ipython3",
      "version": "3.13.2"
    },
    "colab": {
      "provenance": []
    }
  },
  "nbformat": 4,
  "nbformat_minor": 0
}