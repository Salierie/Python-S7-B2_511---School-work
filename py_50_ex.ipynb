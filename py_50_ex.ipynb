{
 "cells": [
  {
   "cell_type": "code",
   "execution_count": null,
   "metadata": {},
   "outputs": [
    {
     "data": {
      "text/plain": [
       "'gu Trong Thang tham nhunL'"
      ]
     },
     "execution_count": 3,
     "metadata": {},
     "output_type": "execute_result"
    }
   ],
   "source": [
    "#.10 Exchange first and last chars's positions from given string\n",
    "def Char_exchange(text):\n",
    "   return text[-1] + text[1:-1] + text[0] if (text != None) else None\n",
    " \n",
    "text = \"Lu Trong Thang tham nhung\"\n",
    "Char_exchange(text)"
   ]
  },
  {
   "cell_type": "code",
   "execution_count": null,
   "metadata": {},
   "outputs": [
    {
     "data": {
      "text/plain": [
       "'H h ihl hn udm'"
      ]
     },
     "execution_count": 14,
     "metadata": {},
     "output_type": "execute_result"
    }
   ],
   "source": [
    "#.11 Remove characters in the string with odd number index\n",
    "def Rm_odd_chars(text):\n",
    "    new_text = ''\n",
    "    for i in range(len(text)):\n",
    "        new_text = new_text + text[i] if(i % 2 == 0) else new_text+ ''\n",
    "    return new_text\n",
    "\n",
    "text = \"Ho Chi Minh la thang au dam\" \n",
    "Rm_odd_chars(text)"
   ]
  },
  {
   "cell_type": "code",
   "execution_count": null,
   "metadata": {},
   "outputs": [],
   "source": [
    "#.12 Print out the frequency of each word in a sentence\n",
    "import re\n",
    "def Word_freq(sentence):\n",
    "    freq_map = {}\n",
    "    sentence = re.sub(r\"[^A-Za-z ]\", \"\", sentence)\n",
    "    words_list = sentence.split(\" \")\n",
    "    for w in words_list:\n",
    "        count = 0\n",
    "        if (w not in freq_map.keys()):\n",
    "            count += 1\n",
    "            freq_map.update({w:count})\n",
    "        else:\n",
    "            freq_map[w] += 1\n",
    "            freq_map.update({w:freq_map[w]})\n",
    "    return freq_map\n",
    "\n",
    "sentence = \"\"\"\n",
    "Ozymandias - By Percy Bysshe Shelly \n",
    "\n",
    "I met a traveller from an antique land, \n",
    "Who said— “Two vast and trunkless legs of stone \n",
    "Stand in the desert. . . . Near them, on the sand, \n",
    "Half sunk a shattered visage lies, whose frown, \n",
    "And wrinkled lip, and sneer of cold command, \n",
    "Tell that its sculptor well those passions read \n",
    "Which yet survive, stamped on these lifeless things, \n",
    "The hand that mocked them, and the heart that fed; \n",
    "And on the pedestal, these words appear: \n",
    "My name is Ozymandias, King of Kings; \n",
    "Look on my Works, ye Mighty, and despair! \n",
    "Nothing beside remains. Round the decay \n",
    "Of that colossal Wreck, boundless and bare \n",
    "The lone and level sands stretch far away.\n",
    "\"\"\"\n",
    "\n",
    "Word_freq(sentence)"
   ]
  },
  {
   "cell_type": "code",
   "execution_count": null,
   "metadata": {},
   "outputs": [
    {
     "data": {
      "text/plain": [
       "'<p>Ho may lam ho nhieu ten</p>'"
      ]
     },
     "execution_count": 34,
     "metadata": {},
     "output_type": "execute_result"
    }
   ],
   "source": [
    "#.13 Create HTML string from given tag and text\n",
    "def Add_tags(tag, text):\n",
    "    return f'<{tag}>{text}</{tag}>'\n",
    "\n",
    "text = \"Ho may lam ho nhieu ten\"\n",
    "Add_tags(\"p\",text)"
   ]
  },
  {
   "cell_type": "code",
   "execution_count": null,
   "metadata": {},
   "outputs": [
    {
     "data": {
      "text/plain": [
       "'{{{A ti bac bi khao tra}}}'"
      ]
     },
     "execution_count": 44,
     "metadata": {},
     "output_type": "execute_result"
    }
   ],
   "source": [
    "#.14 Insert a string in the middle of another string\n",
    "def Insert_string_middle(text1, text2):\n",
    "    mid = len(text1)/2\n",
    "    return f'{text1[:int(mid)]}{text2}{text1[int(mid):]}'\n",
    "\n",
    "text1 = \"{{{}}}\"\n",
    "text2 = \"A ti bac bi khao tra\"\n",
    "Insert_string_middle(text1,text2)"
   ]
  },
  {
   "cell_type": "code",
   "execution_count": null,
   "metadata": {},
   "outputs": [
    {
     "data": {
      "text/plain": [
       "'aiaiaiai'"
      ]
     },
     "execution_count": 56,
     "metadata": {},
     "output_type": "execute_result"
    }
   ],
   "source": [
    "#.15\n",
    "def Insert_end(text):\n",
    "    return \"\".join([text[-2:] for c in range(4)])\n",
    "\n",
    "text = \"Nguu dau ma dien cho la man khai\"\n",
    "Insert_end(text)"
   ]
  },
  {
   "cell_type": "code",
   "execution_count": null,
   "metadata": {},
   "outputs": [
    {
     "data": {
      "text/plain": [
       "'Ho '"
      ]
     },
     "execution_count": 60,
     "metadata": {},
     "output_type": "execute_result"
    }
   ],
   "source": [
    "#.16 Print out first three characters of a string\n",
    "def First_three(text):\n",
    "    return \"\".join(text[:3])\n",
    "\n",
    "text = \"Ho may song doi gian ta\"\n",
    "First_three(text)"
   ]
  },
  {
   "cell_type": "code",
   "execution_count": null,
   "metadata": {},
   "outputs": [
    {
     "data": {
      "text/plain": [
       "'atnaig cut peit yam gnaD ueN'"
      ]
     },
     "execution_count": 70,
     "metadata": {},
     "output_type": "execute_result"
    }
   ],
   "source": [
    "#.17 Reverse a string if the text length is a multiply of 4\n",
    "def Reverse_str(text):\n",
    "    return text[::-1] if (len(text)%4==0) else text\n",
    "\n",
    "text = \"Neu Dang may tiep tuc gianta\"\n",
    "Reverse_str(text)"
   ]
  },
  {
   "cell_type": "code",
   "execution_count": 88,
   "metadata": {},
   "outputs": [
    {
     "data": {
      "text/plain": [
       "'aadfs'"
      ]
     },
     "execution_count": 88,
     "metadata": {},
     "output_type": "execute_result"
    }
   ],
   "source": [
    "#.18 To sort a string lexicographically.\n",
    "def Lexi_sort(text):\n",
    "    alphabet_map = {chr(96 + i): i for i in range(1, 27)}\n",
    "    text = str(text).lower()\n",
    "    text_list = list(text)\n",
    "    for i in range(len(text_list) - 1):\n",
    "        min_idx = i\n",
    "        for j in range(i + 1, len(text_list)):\n",
    "            if alphabet_map[text_list[j]] < alphabet_map[text_list[min_idx]]:\n",
    "                min_idx = j \n",
    "        \n",
    "        text_list[i], text_list[min_idx] = text_list[min_idx], text_list[i]\n",
    "\n",
    "    return \"\".join(text_list)\n",
    "\n",
    "Lexi_sort(\"aasdf\")"
   ]
  },
  {
   "cell_type": "code",
   "execution_count": 96,
   "metadata": {},
   "outputs": [
    {
     "data": {
      "text/plain": [
       "'wklqpdbqvhqelqfxsqtxdqwkdpqqxrl'"
      ]
     },
     "execution_count": 96,
     "metadata": {},
     "output_type": "execute_result"
    }
   ],
   "source": [
    "#.19 Ceasar cypher encrypter \n",
    "def Ceasar_enc(text:str, key:int):\n",
    "    text = str(text).lower()\n",
    "    cipher_text = \"\"\n",
    "    for i in range(len(text)):\n",
    "        char = text[i]\n",
    "        cipher_text += chr((ord(char) + key-97) % 26 + 97)\n",
    "\n",
    "    return cipher_text\n",
    "\n",
    "text = \"Thi may se bi cup qua tham nuoi\"\n",
    "Ceasar_enc(text, 3)"
   ]
  },
  {
   "cell_type": "code",
   "execution_count": 100,
   "metadata": {},
   "outputs": [
    {
     "data": {
      "text/plain": [
       "'ed uar hnim'"
      ]
     },
     "execution_count": 100,
     "metadata": {},
     "output_type": "execute_result"
    }
   ],
   "source": [
    "#.20 To reverse a string.\n",
    "def Str_reversal(text):\n",
    "    return \"\".join([text[len(text)-i-1] for i in range(len(text))])\n",
    "\n",
    "text = \"minh rau de\"\n",
    "Str_reversal(text)"
   ]
  },
  {
   "cell_type": "code",
   "execution_count": null,
   "metadata": {},
   "outputs": [],
   "source": []
  }
 ],
 "metadata": {
  "kernelspec": {
   "display_name": "Python 3",
   "language": "python",
   "name": "python3"
  },
  "language_info": {
   "codemirror_mode": {
    "name": "ipython",
    "version": 3
   },
   "file_extension": ".py",
   "mimetype": "text/x-python",
   "name": "python",
   "nbconvert_exporter": "python",
   "pygments_lexer": "ipython3",
   "version": "3.13.2"
  }
 },
 "nbformat": 4,
 "nbformat_minor": 2
}
