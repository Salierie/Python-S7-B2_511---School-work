{
  "cells": [
    {
      "cell_type": "code",
      "source": [
        "#.1\n",
        "def Str_len(text):\n",
        "    count = 0\n",
        "    for c in text:\n",
        "        count += 1\n",
        "\n",
        "    return count\n"
      ],
      "metadata": {
        "id": "4I9xvZ8pfkwC"
      },
      "execution_count": null,
      "outputs": []
    },
    {
      "cell_type": "code",
      "source": [
        "#.2\n",
        "def Char_freq(text):\n",
        "    freq_map = {}\n",
        "    for c in text:\n",
        "        count = 0\n",
        "        if (c not in freq_map.keys()):\n",
        "            count += 1\n",
        "            freq_map.update({c : count})\n",
        "        else:\n",
        "            freq_map[c] += 1\n",
        "\n",
        "    return freq_map"
      ],
      "metadata": {
        "id": "jwqnFVk6flRg"
      },
      "execution_count": null,
      "outputs": []
    },
    {
      "cell_type": "code",
      "source": [
        "#.3\n",
        "def First_2_last_2(text):\n",
        "    if (Str_len(text) >= 2):\n",
        "        return f'{text[0:2]}{text[-2:]}'"
      ],
      "metadata": {
        "id": "Nrnv8k--fmqI"
      },
      "execution_count": null,
      "outputs": []
    },
    {
      "cell_type": "code",
      "source": [
        "#.4\n",
        "def Replace_w_dollar_sign(text):\n",
        "    first_char = text[0]\n",
        "    new_text = \"\"\n",
        "    for i in range (Str_len(text)):\n",
        "            if (text[i] != first_char) | (i == 0):\n",
        "                new_text = new_text + str(text[i])\n",
        "            elif (text[i] == first_char) & (i != 0):\n",
        "                new_text = new_text + \"$\"\n",
        "    return new_text\n"
      ],
      "metadata": {
        "id": "D4G6wl55fogg"
      },
      "execution_count": null,
      "outputs": []
    },
    {
      "cell_type": "code",
      "source": [
        "#.5\n",
        "def Str_swap(text1, text2):\n",
        "    n_text1 = text2[:2] + text1[2:]\n",
        "    n_text2 = text1[:2] + text2[2:]\n",
        "    new_text = n_text1 + ' ' + n_text2\n",
        "    return new_text"
      ],
      "metadata": {
        "id": "5bIocOQMfqFo"
      },
      "execution_count": null,
      "outputs": []
    },
    {
      "cell_type": "code",
      "source": [
        "#.6\n",
        "def Gerund_n_adverb_maker(text):\n",
        "    if (Str_len(text) >= 3):\n",
        "        text = text + \"ing\"\n",
        "        return text\n",
        "    else:\n",
        "        text = text + \"ly\"\n",
        "        return text"
      ],
      "metadata": {
        "id": "luinpfNWfrOI"
      },
      "execution_count": null,
      "outputs": []
    },
    {
      "cell_type": "code",
      "source": [
        "#.7\n",
        "def Longest_word(text_ls : list):\n",
        "    length : int\n",
        "    longest_wrd : str\n",
        "    for i in range(len(text_ls) - 1):\n",
        "        if (Str_len(text_ls[i]) >= Str_len(text_ls[i + 1])):\n",
        "            length = Str_len(text_ls[i])\n",
        "            longest_wrd = text_ls[i]\n",
        "        else:\n",
        "            length = Str_len(text_ls[i + 1])\n",
        "            longest_wrd = text_ls[i + 1]\n",
        "    ans = f'Longest Word: {longest_wrd}\\nLength of longest word: {length}'\n",
        "    return ans"
      ],
      "metadata": {
        "id": "1zQoyLCAftcI"
      },
      "execution_count": null,
      "outputs": []
    },
    {
      "cell_type": "code",
      "source": [
        "#.8\n",
        "def Remove_nth(text, index):\n",
        "    if (text != ''):\n",
        "        new_text = ''\n",
        "        for i in range(Str_len(text)):\n",
        "            if (i == index):\n",
        "                new_text = new_text + ''\n",
        "            else:\n",
        "                new_text = new_text + text[i]\n",
        "        return new_text\n",
        "    return None\n",
        "\n",
        "if __name__ == \"__main__\":\n",
        "    text = \"Lu Trong Thang bu Lon tre em\"\n",
        "    text1 = \"Lu_Trong_Thang\"\n",
        "    text2 = \"Hiep_Dam_Con_Heo\"\n",
        "    wrd_ls = [\"Lu\", \"Trong\", \"Thang\", \"ngu\", \"TranDaiQuang\"]\n",
        "\n",
        "    print(Remove_nth(text, 5))"
      ],
      "metadata": {
        "id": "_FyEOE9cfwR4"
      },
      "execution_count": null,
      "outputs": []
    },
    {
      "cell_type": "code",
      "execution_count": null,
      "metadata": {
        "id": "qah9Vo2EBtK0",
        "outputId": "e029732b-f42b-4564-ec34-d22d8375cdc6"
      },
      "outputs": [
        {
          "data": {
            "text/plain": [
              "'gu Trong Thang tham nhunL'"
            ]
          },
          "execution_count": 3,
          "metadata": {},
          "output_type": "execute_result"
        }
      ],
      "source": [
        "#.9 Exchange first and last chars's positions from given string\n",
        "def Char_exchange(text):\n",
        "   return text[-1] + text[1:-1] + text[0] if (text != None) else None\n",
        "\n",
        "text = \"Lu Trong Thang tham nhung\"\n",
        "Char_exchange(text)"
      ]
    },
    {
      "cell_type": "code",
      "execution_count": null,
      "metadata": {
        "id": "JTL2Y8fsBtK4",
        "outputId": "ec58ed9f-46b5-44b5-bfee-17d6947de369"
      },
      "outputs": [
        {
          "data": {
            "text/plain": [
              "'H h ihl hn udm'"
            ]
          },
          "execution_count": 14,
          "metadata": {},
          "output_type": "execute_result"
        }
      ],
      "source": [
        "#.10 Remove characters in the string with odd number index\n",
        "def Rm_odd_chars(text):\n",
        "    new_text = ''\n",
        "    for i in range(len(text)):\n",
        "        new_text = new_text + text[i] if(i % 2 == 0) else new_text+ ''\n",
        "    return new_text\n",
        "\n",
        "text = \"Ho Chi Minh la thang au dam\"\n",
        "Rm_odd_chars(text)"
      ]
    },
    {
      "cell_type": "code",
      "execution_count": null,
      "metadata": {
        "id": "LXh0OxULBtK5"
      },
      "outputs": [],
      "source": [
        "#.11 Print out the frequency of each word in a sentence\n",
        "import re\n",
        "def Word_freq(sentence):\n",
        "    freq_map = {}\n",
        "    sentence = re.sub(r\"[^A-Za-z ]\", \"\", sentence)\n",
        "    words_list = sentence.split(\" \")\n",
        "    for w in words_list:\n",
        "        count = 0\n",
        "        if (w not in freq_map.keys()):\n",
        "            count += 1\n",
        "            freq_map.update({w:count})\n",
        "        else:\n",
        "            freq_map[w] += 1\n",
        "            freq_map.update({w:freq_map[w]})\n",
        "    return freq_map\n",
        "\n",
        "sentence = \"\"\"\n",
        "Ozymandias - By Percy Bysshe Shelly\n",
        "\n",
        "I met a traveller from an antique land,\n",
        "Who said— “Two vast and trunkless legs of stone\n",
        "Stand in the desert. . . . Near them, on the sand,\n",
        "Half sunk a shattered visage lies, whose frown,\n",
        "And wrinkled lip, and sneer of cold command,\n",
        "Tell that its sculptor well those passions read\n",
        "Which yet survive, stamped on these lifeless things,\n",
        "The hand that mocked them, and the heart that fed;\n",
        "And on the pedestal, these words appear:\n",
        "My name is Ozymandias, King of Kings;\n",
        "Look on my Works, ye Mighty, and despair!\n",
        "Nothing beside remains. Round the decay\n",
        "Of that colossal Wreck, boundless and bare\n",
        "The lone and level sands stretch far away.\n",
        "\"\"\"\n",
        "\n",
        "Word_freq(sentence)"
      ]
    },
    {
      "cell_type": "code",
      "execution_count": null,
      "metadata": {
        "id": "TV45rhxJBtK5",
        "outputId": "64ef99f2-02a5-46f7-8b77-b8c908259bca"
      },
      "outputs": [
        {
          "data": {
            "text/plain": [
              "'<p>Ho may lam ho nhieu ten</p>'"
            ]
          },
          "execution_count": 34,
          "metadata": {},
          "output_type": "execute_result"
        }
      ],
      "source": [
        "#.12 Create HTML string from given tag and text\n",
        "def Add_tags(tag, text):\n",
        "    return f'<{tag}>{text}</{tag}>'\n",
        "\n",
        "text = \"Ho may lam ho nhieu ten\"\n",
        "Add_tags(\"p\",text)"
      ]
    },
    {
      "cell_type": "code",
      "execution_count": null,
      "metadata": {
        "id": "6RgBL8G4BtK6",
        "outputId": "957ea103-19c4-4572-a6ec-802ab8ad1ffe"
      },
      "outputs": [
        {
          "data": {
            "text/plain": [
              "'{{{A ti bac bi khao tra}}}'"
            ]
          },
          "execution_count": 44,
          "metadata": {},
          "output_type": "execute_result"
        }
      ],
      "source": [
        "#.13 Insert a string in the middle of another string\n",
        "def Insert_string_middle(text1, text2):\n",
        "    mid = len(text1)/2\n",
        "    return f'{text1[:int(mid)]}{text2}{text1[int(mid):]}'\n",
        "\n",
        "text1 = \"{{{}}}\"\n",
        "text2 = \"A ti bac bi khao tra\"\n",
        "Insert_string_middle(text1,text2)"
      ]
    },
    {
      "cell_type": "code",
      "execution_count": null,
      "metadata": {
        "id": "lI1PvOb8BtK6",
        "outputId": "13770e56-ec04-425f-d4fd-22ff836fabcd"
      },
      "outputs": [
        {
          "data": {
            "text/plain": [
              "'aiaiaiai'"
            ]
          },
          "execution_count": 56,
          "metadata": {},
          "output_type": "execute_result"
        }
      ],
      "source": [
        "#.14\n",
        "def Insert_end(text):\n",
        "    return \"\".join([text[-2:] for c in range(4)])\n",
        "\n",
        "text = \"Nguu dau ma dien cho la man khai\"\n",
        "Insert_end(text)"
      ]
    },
    {
      "cell_type": "code",
      "execution_count": null,
      "metadata": {
        "id": "tD1cQclRBtK7",
        "outputId": "7b8d984d-00b7-4171-8b2e-e775e3dc6e4c"
      },
      "outputs": [
        {
          "data": {
            "text/plain": [
              "'Ho '"
            ]
          },
          "execution_count": 60,
          "metadata": {},
          "output_type": "execute_result"
        }
      ],
      "source": [
        "#.15 Print out first three characters of a string\n",
        "def First_three(text):\n",
        "    return \"\".join(text[:3])\n",
        "\n",
        "text = \"Ho may song doi gian ta\"\n",
        "First_three(text)"
      ]
    },
    {
      "cell_type": "code",
      "execution_count": null,
      "metadata": {
        "id": "JvlNxhMgBtK8",
        "outputId": "ae3f8248-3129-4ae2-efe2-1d6c4751c92d"
      },
      "outputs": [
        {
          "data": {
            "text/plain": [
              "'atnaig cut peit yam gnaD ueN'"
            ]
          },
          "execution_count": 70,
          "metadata": {},
          "output_type": "execute_result"
        }
      ],
      "source": [
        "#.16 Reverse a string if the text length is a multiply of 4\n",
        "def Reverse_str(text):\n",
        "    return text[::-1] if (len(text)%4==0) else text\n",
        "\n",
        "text = \"Neu Dang may tiep tuc gianta\"\n",
        "Reverse_str(text)"
      ]
    },
    {
      "cell_type": "code",
      "execution_count": null,
      "metadata": {
        "id": "at69xla-BtK8",
        "outputId": "854e8696-e7a4-4135-b78f-7333b526c849"
      },
      "outputs": [
        {
          "data": {
            "text/plain": [
              "'aadfs'"
            ]
          },
          "execution_count": 88,
          "metadata": {},
          "output_type": "execute_result"
        }
      ],
      "source": [
        "#.17 To sort a string lexicographically.\n",
        "def Lexi_sort(text):\n",
        "    alphabet_map = {chr(96 + i): i for i in range(1, 27)}\n",
        "    text = str(text).lower()\n",
        "    text_list = list(text)\n",
        "    for i in range(len(text_list) - 1):\n",
        "        min_idx = i\n",
        "        for j in range(i + 1, len(text_list)):\n",
        "            if alphabet_map[text_list[j]] < alphabet_map[text_list[min_idx]]:\n",
        "                min_idx = j\n",
        "\n",
        "        text_list[i], text_list[min_idx] = text_list[min_idx], text_list[i]\n",
        "\n",
        "    return \"\".join(text_list)\n",
        "\n",
        "Lexi_sort(\"aasdf\")"
      ]
    },
    {
      "cell_type": "code",
      "execution_count": null,
      "metadata": {
        "id": "R2ac2ej9BtK9",
        "outputId": "5d91ac96-d70e-4cfc-fbf4-423d88eed52c"
      },
      "outputs": [
        {
          "data": {
            "text/plain": [
              "'wklqpdbqvhqelqfxsqtxdqwkdpqqxrl'"
            ]
          },
          "execution_count": 96,
          "metadata": {},
          "output_type": "execute_result"
        }
      ],
      "source": [
        "#.18 Ceasar cypher encrypter\n",
        "def Ceasar_enc(text:str, key:int):\n",
        "    text = str(text).lower()\n",
        "    cipher_text = \"\"\n",
        "    for i in range(len(text)):\n",
        "        char = text[i]\n",
        "        cipher_text += chr((ord(char) + key-97) % 26 + 97)\n",
        "\n",
        "    return cipher_text\n",
        "\n",
        "text = \"Thi may se bi cup qua tham nuoi\"\n",
        "Ceasar_enc(text, 3)"
      ]
    },
    {
      "cell_type": "code",
      "execution_count": null,
      "metadata": {
        "id": "V9dAE9K9BtK9",
        "outputId": "b469487d-dae9-4f22-9409-0249f7ce03a4"
      },
      "outputs": [
        {
          "data": {
            "text/plain": [
              "'ed uar hnim'"
            ]
          },
          "execution_count": 100,
          "metadata": {},
          "output_type": "execute_result"
        }
      ],
      "source": [
        "#.19 To reverse a string.\n",
        "def Str_reversal(text):\n",
        "    return \"\".join([text[len(text)-i-1] for i in range(len(text))])\n",
        "\n",
        "text = \"minh rau de\"\n",
        "Str_reversal(text)"
      ]
    },
    {
      "cell_type": "code",
      "execution_count": null,
      "metadata": {
        "colab": {
          "base_uri": "https://localhost:8080/",
          "height": 35
        },
        "id": "hIjweqVLBtK9",
        "outputId": "9e279dd4-f08c-4614-99c4-8f9499ca5563"
      },
      "outputs": [
        {
          "output_type": "execute_result",
          "data": {
            "text/plain": [
              "'MANAGER ESQUIRE!'"
            ],
            "application/vnd.google.colaboratory.intrinsic+json": {
              "type": "string"
            }
          },
          "metadata": {},
          "execution_count": 19
        }
      ],
      "source": [
        "#.20 To uppercase if string has 2 or more uppercases in the first 4 characters\n",
        "def To_uppercase(text):\n",
        "  count = 0\n",
        "  for i in range(0,4):\n",
        "    if (ord(text[i]) >=65 and ord(text[i]) <= 90):\n",
        "      count += 1\n",
        "\n",
        "  return str(text).upper() if(count >= 2) else text\n",
        "\n",
        "text = \"ManAger esquire!\"\n",
        "To_uppercase(text)"
      ]
    },
    {
      "cell_type": "code",
      "source": [
        "#.21 To remove newline from string\n",
        "import re\n",
        "def Strip_newline(text):\n",
        "  return re.sub(r\"[\\n]\", \"\", text)\n",
        "\n",
        "text = \"Cha! Maganera\\n\"\n",
        "Strip_newline(text)"
      ],
      "metadata": {
        "colab": {
          "base_uri": "https://localhost:8080/",
          "height": 35
        },
        "id": "7_YO2TRgPJam",
        "outputId": "e14fe8b4-2dc5-4cb6-af6a-7d227f1257ab"
      },
      "execution_count": null,
      "outputs": [
        {
          "output_type": "execute_result",
          "data": {
            "text/plain": [
              "'Cha! Maganera'"
            ],
            "application/vnd.google.colaboratory.intrinsic+json": {
              "type": "string"
            }
          },
          "metadata": {},
          "execution_count": 29
        }
      ]
    },
    {
      "cell_type": "code",
      "source": [
        "#.22 Display formatted text (width=50)\n",
        "import textwrap\n",
        "def Display_formatted_text(text):\n",
        "  return textwrap.fill(text, width=50)\n",
        "\n",
        "text = \"\"\"Epitaph\n",
        "An old willow with hollow branchess\n",
        "lowly swayed his few high gright tendrils\n",
        "and sang:\n",
        "\n",
        "Love is a young green willow\n",
        "shimmering at the bare wood’s edge.\"\"\"\n",
        "print(Display_formatted_text(text))"
      ],
      "metadata": {
        "colab": {
          "base_uri": "https://localhost:8080/"
        },
        "id": "zlRXr3QfRuCG",
        "outputId": "2ac7f3f3-f413-4273-fe05-e2c807ec4f25"
      },
      "execution_count": null,
      "outputs": [
        {
          "output_type": "stream",
          "name": "stdout",
          "text": [
            "Epitaph An old willow with hollow branchess lowly\n",
            "swayed his few high gright tendrils and sang:\n",
            "Love is a young green willow shimmering at the\n",
            "bare wood’s edge.\n"
          ]
        }
      ]
    },
    {
      "cell_type": "code",
      "source": [
        "#.23 Check whether a string starts with specified characters\n",
        "def Check_string_start(text, start):\n",
        "  return text.startswith(start)\n",
        "\n",
        "text = \"\"\"The Gentle Man\n",
        "I feel the caress of my own fingers\n",
        "on my own neck as I place my collar\n",
        "and think pityingly\n",
        "of the kind women I have known.\"\"\"\n",
        "start = \"The\"\n",
        "print(Check_string_start(text, start))"
      ],
      "metadata": {
        "colab": {
          "base_uri": "https://localhost:8080/"
        },
        "id": "7UUQSz4cTPHg",
        "outputId": "d13fef58-641f-4ea3-bae8-2b5379edcfa0"
      },
      "execution_count": null,
      "outputs": [
        {
          "output_type": "stream",
          "name": "stdout",
          "text": [
            "True\n"
          ]
        }
      ]
    },
    {
      "cell_type": "code",
      "source": [
        "#.24 Add a prefix text to all of the lines in a string\n",
        "def Add_prefix(text, prefix):\n",
        "  new_text = \"\"\n",
        "  for line in text.split(\"\\n\"):\n",
        "    new_text += prefix + \" \" + line + \"\\n\"\n",
        "  return new_text\n",
        "\n",
        "text = \"\"\"Dawn\n",
        "Ecstatic bird songs pound\n",
        "the hollow vastness of the sky\n",
        "with metallic clinkings—\n",
        "beating color up into it\n",
        "at a far edge,—beating it, beating it\n",
        "with rising, triumphant ardor,—\n",
        "stirring it into warmth,\n",
        "quickening in it a spreading change,—\n",
        "bursting wildly against it as\n",
        "dividing the horizon, a heavy sun\n",
        "lifts himself—is lifted—\n",
        "bit by bit above the edge\n",
        "of things,—runs free at last\n",
        "out into the open—!lumbering\n",
        "glorified in full release upward—\n",
        "                              songs cease.\"\"\"\n",
        "\n",
        "print(Add_prefix(text, \">\"))"
      ],
      "metadata": {
        "colab": {
          "base_uri": "https://localhost:8080/"
        },
        "id": "hsIYi2TDVF9_",
        "outputId": "2e9bc236-009a-4867-901c-e5ef2695b5d0"
      },
      "execution_count": null,
      "outputs": [
        {
          "output_type": "stream",
          "name": "stdout",
          "text": [
            "> Dawn\n",
            "> Ecstatic bird songs pound\n",
            "> the hollow vastness of the sky\n",
            "> with metallic clinkings—\n",
            "> beating color up into it\n",
            "> at a far edge,—beating it, beating it\n",
            "> with rising, triumphant ardor,—\n",
            "> stirring it into warmth,\n",
            "> quickening in it a spreading change,—\n",
            "> bursting wildly against it as\n",
            "> dividing the horizon, a heavy sun\n",
            "> lifts himself—is lifted—\n",
            "> bit by bit above the edge\n",
            "> of things,—runs free at last\n",
            "> out into the open—!lumbering\n",
            "> glorified in full release upward—\n",
            ">                               songs cease.\n",
            "\n"
          ]
        }
      ]
    },
    {
      "cell_type": "code",
      "source": [
        "#.25 Set the indentation of the first line\n",
        "def Set_indentation(text):\n",
        "  new_text = text.split(\"\\n\")[0]\n",
        "  for i in range(1, len(text.split(\"\\n\"))):\n",
        "    new_text +=  \"\\t\" + text.split(\"\\n\")[i] + \"\\n\"\n",
        "  return new_text\n",
        "\n",
        "text = \"\"\"El Hombre\n",
        "\n",
        "It’s a strange courage\n",
        "you give me ancient star:\n",
        "\n",
        "Shine alone in the sunrise\n",
        "toward which you lend no part!\"\"\"\n",
        "\n",
        "print(Set_indentation(text))"
      ],
      "metadata": {
        "colab": {
          "base_uri": "https://localhost:8080/"
        },
        "id": "CXUiq11WVy4p",
        "outputId": "34156577-7d56-4922-ac23-65d0aef3d782"
      },
      "execution_count": null,
      "outputs": [
        {
          "output_type": "stream",
          "name": "stdout",
          "text": [
            "El Hombre\t\n",
            "\tIt’s a strange courage\n",
            "\tyou give me ancient star:\n",
            "\t\n",
            "\tShine alone in the sunrise\n",
            "\ttoward which you lend no part!\n",
            "\n"
          ]
        }
      ]
    },
    {
      "cell_type": "code",
      "source": [
        "#.26 Reverse words in a string\n",
        "def Reverse_words(text):\n",
        "  text = re.sub(r\"[^A-Za-z ]\", \"\", text)\n",
        "  words_list = text.split(\" \")\n",
        "  return \"\".join([f'{text[::-1]} ' for text in words_list])\n",
        "\n",
        "text = \"\"\"The Poor\n",
        "By constantly tormenting them\n",
        "with reminders of the lice in\n",
        "their children’s hair, the\n",
        "School Physician first\n",
        "brought their hatred down on him.\n",
        "But by this familiarity\n",
        "they grew used to him, and so,\n",
        "at last,\n",
        "took him for their friend and adviser.\"\"\"\n",
        "\n",
        "print(Reverse_words(text))"
      ],
      "metadata": {
        "colab": {
          "base_uri": "https://localhost:8080/"
        },
        "id": "2d7UKhxrWUg3",
        "outputId": "faeb6cdd-9bb4-4dc2-8b90-91147ae32a43"
      },
      "execution_count": null,
      "outputs": [
        {
          "output_type": "stream",
          "name": "stdout",
          "text": [
            "ehT yBrooP yltnatsnoc gnitnemrot htiwmeht srednimer fo eht ecil riehtni snerdlihc riah loohcSeht naicisyhP thguorbtsrif rieht dertah nwod no tuBmih yb siht yehtytirailimaf werg desu ot mih dna taos koottsal mih rof rieht dneirf dna resivda \n"
          ]
        }
      ]
    },
    {
      "cell_type": "code",
      "source": [
        "#.27 Print the index of a character in a string\n",
        "def Chars_n_Indexes(text):\n",
        "  return([f\"Current character {text[i]} position at {i}\" for i in range(len(text))])\n",
        "\n",
        "text = \"Epitaph\"\n",
        "(Chars_n_Indexes(text))"
      ],
      "metadata": {
        "colab": {
          "base_uri": "https://localhost:8080/"
        },
        "id": "hP2VBanYZs1I",
        "outputId": "0ec91c8c-a541-4917-919f-3b90fe5ede35"
      },
      "execution_count": null,
      "outputs": [
        {
          "output_type": "execute_result",
          "data": {
            "text/plain": [
              "['Current character E position at 0',\n",
              " 'Current character p position at 1',\n",
              " 'Current character i position at 2',\n",
              " 'Current character t position at 3',\n",
              " 'Current character a position at 4',\n",
              " 'Current character p position at 5',\n",
              " 'Current character h position at 6']"
            ]
          },
          "metadata": {},
          "execution_count": 66
        }
      ]
    },
    {
      "cell_type": "code",
      "source": [
        "#.28 Convert a given string into a list of words\n",
        "def Convert_2_words_list(text):\n",
        "  return re.sub(r\"[^A-Za-z ]\", \"\", text).split(\" \")\n",
        "\n",
        "text = \"\"\"You sullen pig of a man\n",
        "you force me into the mud\n",
        "with your stinking ash-cart!\n",
        "Brother!\"\"\"\n",
        "\n",
        "print(Convert_2_words_list(text))"
      ],
      "metadata": {
        "colab": {
          "base_uri": "https://localhost:8080/"
        },
        "id": "rXlqAHmwbyiv",
        "outputId": "e099a2f2-03b1-468a-b008-4f1b06f1cc19"
      },
      "execution_count": null,
      "outputs": [
        {
          "output_type": "stream",
          "name": "stdout",
          "text": [
            "['You', 'sullen', 'pig', 'of', 'a', 'man', 'you', 'force', 'me', 'into', 'the', 'mud', 'with', 'your', 'stinking', 'ashcart', 'Brother']\n"
          ]
        }
      ]
    },
    {
      "cell_type": "code",
      "source": [
        "#.29 lowercase the first n characters in a string\n",
        "def Lower_nth_letter(text, n):\n",
        "  return \"\".join([f\"{str(text[i]).lower()}\" if(i < n) else f\"{str(text[i])}\" for i in range(len(text))])\n",
        "text = \"THERE IS no more pride in horses or in rein holding\"\n",
        "print(Lower_nth_letter(text, 5))"
      ],
      "metadata": {
        "colab": {
          "base_uri": "https://localhost:8080/"
        },
        "id": "IfnUIiolc9yk",
        "outputId": "b6b67e35-635c-4f1f-ed51-ebd8506e471c"
      },
      "execution_count": null,
      "outputs": [
        {
          "output_type": "stream",
          "name": "stdout",
          "text": [
            "there IS no more pride in horses or in rein holding\n"
          ]
        }
      ]
    },
    {
      "cell_type": "code",
      "source": [
        "#.30 Count and display vowels in text\n",
        "def Count_n_display_vowels(text):\n",
        "  vowels = {\"a\":0, \"e\":0, \"u\":0, \"i\":0, \"o\":0}\n",
        "  for c in str(text).lower():\n",
        "    if (c in vowels.keys()):\n",
        "      vowels[c] += 1\n",
        "  return vowels\n",
        "\n",
        "text = \"\"\"January Morning: Suite 03\n",
        "— and from basement entries\n",
        "neatly coiffed, middle aged gentlemen\n",
        "with orderly moustaches and\n",
        "well-brushed coats\"\"\"\n",
        "Count_n_display_vowels(text)"
      ],
      "metadata": {
        "id": "OLpx3L4TeQyZ",
        "colab": {
          "base_uri": "https://localhost:8080/"
        },
        "outputId": "ce759ca7-26db-440c-ece2-3757f3fc1156"
      },
      "execution_count": 5,
      "outputs": [
        {
          "output_type": "execute_result",
          "data": {
            "text/plain": [
              "{'a': 9, 'e': 16, 'u': 4, 'i': 6, 'o': 6}"
            ]
          },
          "metadata": {},
          "execution_count": 5
        }
      ]
    },
    {
      "cell_type": "code",
      "source": [
        "#.31  Find the first repeated word in a given string.\n",
        "import re\n",
        "def First_repeated(text):\n",
        "  freq_map = {}\n",
        "  words_list = re.sub(r\"[^A-Za-z ]\", \"\", text).split(\" \")\n",
        "  for w in words_list:\n",
        "    if (w not in freq_map.keys()):\n",
        "      freq_map.update({w:1})\n",
        "    else:\n",
        "      freq_map[w] += 1\n",
        "\n",
        "    if (freq_map[w] > 1):\n",
        "      return f'First repeated word: \"{w}\"'\n",
        "  return 'No repeated word'\n",
        "\n",
        "text = \"\"\"March\n",
        "I\n",
        "\n",
        "Winter is long in this climate\n",
        "and spring—a matter of a few days\n",
        "only,—a flower or two picked\n",
        "from mud or from among wet leaves\n",
        "or at best against treacherous\n",
        "bitterness of wind, and sky shining\n",
        "teasingly, then closing in black\n",
        "and sudden, with fierce jaws.\"\"\"\n",
        "print(First_repeated(text))"
      ],
      "metadata": {
        "colab": {
          "base_uri": "https://localhost:8080/"
        },
        "id": "-wxt9Xw8YZkf",
        "outputId": "54bba1b5-1368-481b-f58c-cc6f463a53b1"
      },
      "execution_count": 11,
      "outputs": [
        {
          "output_type": "stream",
          "name": "stdout",
          "text": [
            "First repeated word: \"or\"\n"
          ]
        }
      ]
    },
    {
      "cell_type": "code",
      "source": [
        "#.32 Print the following integers with zeros on the left of specified width\n",
        "def Padding_int(number, width):\n",
        "  zeros = \"\"\n",
        "  for i in range(width):\n",
        "    zeros += \"0\"\n",
        "  return zeros + str(number)\n",
        "text = 1234\n",
        "print(Padding_int(text,4))"
      ],
      "metadata": {
        "colab": {
          "base_uri": "https://localhost:8080/"
        },
        "id": "lrt5k4EVaUQZ",
        "outputId": "55fb7a01-8428-479e-9d3a-f42ea18cafca"
      },
      "execution_count": 17,
      "outputs": [
        {
          "output_type": "stream",
          "name": "stdout",
          "text": [
            "00001234\n"
          ]
        }
      ]
    },
    {
      "cell_type": "code",
      "source": [
        "#.33 Print the following integers with '*' to the right of the specified width\n",
        "def Padding_stars(number, width):\n",
        "  zeros = \"\"\n",
        "  for i in range(width):\n",
        "    zeros += \"*\"\n",
        "  return zeros + str(number)\n",
        "text = 1234\n",
        "print(Padding_stars(text,4))"
      ],
      "metadata": {
        "id": "XRV2yuJAeZhU",
        "outputId": "00b45e2f-98d0-4cde-a7ac-fb85724f44bc",
        "colab": {
          "base_uri": "https://localhost:8080/"
        }
      },
      "execution_count": 20,
      "outputs": [
        {
          "output_type": "stream",
          "name": "stdout",
          "text": [
            "****1234\n"
          ]
        }
      ]
    },
    {
      "cell_type": "code",
      "source": [
        "#.34 Display a number with a comma separator\n",
        "def Comma_separators(number):\n",
        "  return f\"{number:,}\"\n",
        "number = 3000000000\n",
        "print(Comma_separators(number))"
      ],
      "metadata": {
        "id": "YV-C6nRZeaSv",
        "outputId": "1de02e4d-da47-46af-95ee-37d58be47522",
        "colab": {
          "base_uri": "https://localhost:8080/"
        }
      },
      "execution_count": 21,
      "outputs": [
        {
          "output_type": "stream",
          "name": "stdout",
          "text": [
            "3,000,000,000\n"
          ]
        }
      ]
    },
    {
      "cell_type": "code",
      "source": [
        "#.35 Format a number with a percentage\n",
        "def Percent_formatter(number):\n",
        "  return f\"{str(number*100)[:6]}%\"\n",
        "\n",
        "number = 0.54324234\n",
        "print(Percent_formatter(number))"
      ],
      "metadata": {
        "id": "0vtcIZ-CebUW",
        "outputId": "0feb6b87-8342-40e7-fe04-477956885632",
        "colab": {
          "base_uri": "https://localhost:8080/"
        }
      },
      "execution_count": 35,
      "outputs": [
        {
          "output_type": "stream",
          "name": "stdout",
          "text": [
            "54.324%\n"
          ]
        }
      ]
    },
    {
      "cell_type": "code",
      "source": [
        "#.36 Count repeated characters in a string\n",
        "def Repeated_words(text):\n",
        "    freq_map = {}\n",
        "    for c in text:\n",
        "        if (c not in freq_map.keys()):\n",
        "            freq_map.update({c : 1})\n",
        "        else:\n",
        "            freq_map[c] += 1\n",
        "    for k in freq_map.keys():\n",
        "        if (freq_map[k] > 1 and k != \" \"):\n",
        "            print(f'{k} : {freq_map[k]}')\n",
        "\n",
        "text = \"\"\"happy families are all alike; unhappy families are unhappy in their own way\"\"\"\n",
        "Repeated_words(text)"
      ],
      "metadata": {
        "id": "08yvK-gZecjD",
        "outputId": "a55ed006-3bb1-46a5-bc2c-95b91c2c51a1",
        "colab": {
          "base_uri": "https://localhost:8080/"
        }
      },
      "execution_count": 47,
      "outputs": [
        {
          "output_type": "stream",
          "name": "stdout",
          "text": [
            "h : 4\n",
            "a : 10\n",
            "p : 6\n",
            "y : 4\n",
            "f : 2\n",
            "m : 2\n",
            "i : 7\n",
            "l : 5\n",
            "e : 6\n",
            "s : 2\n",
            "r : 3\n",
            "u : 2\n",
            "n : 4\n",
            "w : 2\n"
          ]
        }
      ]
    },
    {
      "cell_type": "code",
      "source": [
        "#.37 Check whether a string contains all letters of the alphabet\n",
        "def alphabet_check(text):\n",
        "  alphabet_map = {chr(96 + i): i for i in range(1, 27)}\n",
        "  for k in alphabet_map.keys():\n",
        "    if (k not in text):\n",
        "      return False\n",
        "  return True\n",
        "\n",
        "text = \"\"\"\n",
        "The Nightingales\n",
        "My shoes as I lean\n",
        "unlacing them\n",
        "stand out upon\n",
        "flat worsted flowers\n",
        "under my feet.\n",
        "Nimbly the shadows\n",
        "of my fingers play\n",
        "unlacing\n",
        "over shoes and flowers.\n",
        "\"\"\"\n",
        "alphabet_check(text)"
      ],
      "metadata": {
        "id": "HOSAIUvOeduN",
        "outputId": "b2053cbd-78c7-4aa6-d164-a7c87aa4f1d6",
        "colab": {
          "base_uri": "https://localhost:8080/"
        }
      },
      "execution_count": 62,
      "outputs": [
        {
          "output_type": "execute_result",
          "data": {
            "text/plain": [
              "False"
            ]
          },
          "metadata": {},
          "execution_count": 62
        }
      ]
    },
    {
      "cell_type": "code",
      "source": [
        "#.38 Find the first non-repeating character in a given string\n",
        "def First_non_repeated(text):\n",
        "  freq_map = {}\n",
        "  words_list = re.sub(r\"[^A-Za-z \\n]\", \"\", text).split(\" \")\n",
        "  for w in words_list:\n",
        "    if (w not in freq_map.keys()):\n",
        "      freq_map.update({w:1})\n",
        "    else:\n",
        "      freq_map[w] += 1\n",
        "\n",
        "  return f'First repeated word: \"{w}\"' if (freq_map[w] == 1) else 'No repeated word'\n",
        "\n",
        "text = \"\"\"The Red Wheelbarrow\n",
        "so much depends\n",
        "upon\n",
        "\n",
        "a red wheel\n",
        "barrow\n",
        "\n",
        "glazed with rain\n",
        "water\n",
        "\n",
        "beside the white\n",
        "chickens\"\"\"\n",
        "\n",
        "print(First_non_repeated(text))"
      ],
      "metadata": {
        "id": "VEGW2zP6efVA",
        "outputId": "7d645a96-1990-404e-c09b-d2868db0db44",
        "colab": {
          "base_uri": "https://localhost:8080/"
        }
      },
      "execution_count": 71,
      "outputs": [
        {
          "output_type": "stream",
          "name": "stdout",
          "text": [
            "First repeated word: \"\n",
            "chickens\"\n"
          ]
        }
      ]
    },
    {
      "cell_type": "code",
      "source": [
        "#.39"
      ],
      "metadata": {
        "id": "paD72HICegLb"
      },
      "execution_count": 69,
      "outputs": []
    },
    {
      "cell_type": "code",
      "source": [
        "#.40"
      ],
      "metadata": {
        "id": "VpaX90P3ehfJ"
      },
      "execution_count": 20,
      "outputs": []
    },
    {
      "cell_type": "code",
      "source": [
        "#.41"
      ],
      "metadata": {
        "id": "YPcKTi2Tei7t"
      },
      "execution_count": 21,
      "outputs": []
    },
    {
      "cell_type": "code",
      "source": [
        "#.42"
      ],
      "metadata": {
        "id": "3T7iZ_1pel0U"
      },
      "execution_count": 22,
      "outputs": []
    },
    {
      "cell_type": "code",
      "source": [
        "#.43"
      ],
      "metadata": {
        "id": "SyHhEA6GenDX"
      },
      "execution_count": 23,
      "outputs": []
    },
    {
      "cell_type": "code",
      "source": [
        "#.44"
      ],
      "metadata": {
        "id": "Xw-wtElBen3x"
      },
      "execution_count": 24,
      "outputs": []
    },
    {
      "cell_type": "code",
      "source": [
        "#.45"
      ],
      "metadata": {
        "id": "WS9WIAmiepOV"
      },
      "execution_count": 25,
      "outputs": []
    },
    {
      "cell_type": "code",
      "source": [
        "#.46"
      ],
      "metadata": {
        "id": "ymrmuvsKeqDF"
      },
      "execution_count": 26,
      "outputs": []
    },
    {
      "cell_type": "code",
      "source": [
        "#.47"
      ],
      "metadata": {
        "id": "c1PAB9cyeqp6"
      },
      "execution_count": 27,
      "outputs": []
    },
    {
      "cell_type": "code",
      "source": [
        "#.48"
      ],
      "metadata": {
        "id": "mY8i05jZer9U"
      },
      "execution_count": 28,
      "outputs": []
    },
    {
      "cell_type": "code",
      "source": [
        "#.49"
      ],
      "metadata": {
        "id": "sQBG5yiQetAI"
      },
      "execution_count": 29,
      "outputs": []
    },
    {
      "cell_type": "code",
      "source": [
        "#.50"
      ],
      "metadata": {
        "id": "gc278TKVetxs"
      },
      "execution_count": null,
      "outputs": []
    }
  ],
  "metadata": {
    "kernelspec": {
      "display_name": "Python 3",
      "language": "python",
      "name": "python3"
    },
    "language_info": {
      "codemirror_mode": {
        "name": "ipython",
        "version": 3
      },
      "file_extension": ".py",
      "mimetype": "text/x-python",
      "name": "python",
      "nbconvert_exporter": "python",
      "pygments_lexer": "ipython3",
      "version": "3.13.2"
    },
    "colab": {
      "provenance": []
    }
  },
  "nbformat": 4,
  "nbformat_minor": 0
}