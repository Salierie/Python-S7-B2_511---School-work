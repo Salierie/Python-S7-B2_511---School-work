{
  "cells": [
    {
      "cell_type": "code",
      "source": [
        "#.1\n",
        "def Str_len(text):\n",
        "    count = 0\n",
        "    for c in text:\n",
        "        count += 1\n",
        "\n",
        "    return count\n"
      ],
      "metadata": {
        "id": "4I9xvZ8pfkwC"
      },
      "execution_count": 142,
      "outputs": []
    },
    {
      "cell_type": "code",
      "source": [
        "#.2\n",
        "def Char_freq(text):\n",
        "    freq_map = {}\n",
        "    for c in text:\n",
        "        count = 0\n",
        "        if (c not in freq_map.keys()):\n",
        "            count += 1\n",
        "            freq_map.update({c : count})\n",
        "        else:\n",
        "            freq_map[c] += 1\n",
        "\n",
        "    return freq_map"
      ],
      "metadata": {
        "id": "jwqnFVk6flRg"
      },
      "execution_count": 143,
      "outputs": []
    },
    {
      "cell_type": "code",
      "source": [
        "#.3\n",
        "def First_2_last_2(text):\n",
        "    if (Str_len(text) >= 2):\n",
        "        return f'{text[0:2]}{text[-2:]}'"
      ],
      "metadata": {
        "id": "Nrnv8k--fmqI"
      },
      "execution_count": 144,
      "outputs": []
    },
    {
      "cell_type": "code",
      "source": [
        "#.4\n",
        "def Replace_w_dollar_sign(text):\n",
        "    first_char = text[0]\n",
        "    new_text = \"\"\n",
        "    for i in range (Str_len(text)):\n",
        "            if (text[i] != first_char) | (i == 0):\n",
        "                new_text = new_text + str(text[i])\n",
        "            elif (text[i] == first_char) & (i != 0):\n",
        "                new_text = new_text + \"$\"\n",
        "    return new_text\n"
      ],
      "metadata": {
        "id": "D4G6wl55fogg"
      },
      "execution_count": 145,
      "outputs": []
    },
    {
      "cell_type": "code",
      "source": [
        "#.5\n",
        "def Str_swap(text1, text2):\n",
        "    n_text1 = text2[:2] + text1[2:]\n",
        "    n_text2 = text1[:2] + text2[2:]\n",
        "    new_text = n_text1 + ' ' + n_text2\n",
        "    return new_text"
      ],
      "metadata": {
        "id": "5bIocOQMfqFo"
      },
      "execution_count": 146,
      "outputs": []
    },
    {
      "cell_type": "code",
      "source": [
        "#.6\n",
        "def Gerund_n_adverb_maker(text):\n",
        "    if (Str_len(text) >= 3):\n",
        "        text = text + \"ing\"\n",
        "        return text\n",
        "    else:\n",
        "        text = text + \"ly\"\n",
        "        return text"
      ],
      "metadata": {
        "id": "luinpfNWfrOI"
      },
      "execution_count": 147,
      "outputs": []
    },
    {
      "cell_type": "code",
      "source": [
        "#.7\n",
        "def Longest_word(text_ls : list):\n",
        "    length : int\n",
        "    longest_wrd : str\n",
        "    for i in range(len(text_ls) - 1):\n",
        "        if (Str_len(text_ls[i]) >= Str_len(text_ls[i + 1])):\n",
        "            length = Str_len(text_ls[i])\n",
        "            longest_wrd = text_ls[i]\n",
        "        else:\n",
        "            length = Str_len(text_ls[i + 1])\n",
        "            longest_wrd = text_ls[i + 1]\n",
        "    ans = f'Longest Word: {longest_wrd}\\nLength of longest word: {length}'\n",
        "    return ans"
      ],
      "metadata": {
        "id": "1zQoyLCAftcI"
      },
      "execution_count": 148,
      "outputs": []
    },
    {
      "cell_type": "code",
      "source": [
        "#.8\n",
        "def Remove_nth(text, index):\n",
        "    if (text != ''):\n",
        "        new_text = ''\n",
        "        for i in range(Str_len(text)):\n",
        "            if (i == index):\n",
        "                new_text = new_text + ''\n",
        "            else:\n",
        "                new_text = new_text + text[i]\n",
        "        return new_text\n",
        "    return None\n",
        "\n",
        "if __name__ == \"__main__\":\n",
        "    text = \"Lu Trong Thang bu Lon tre em\"\n",
        "    text1 = \"Lu_Trong_Thang\"\n",
        "    text2 = \"Hiep_Dam_Con_Heo\"\n",
        "    wrd_ls = [\"Lu\", \"Trong\", \"Thang\", \"ngu\", \"TranDaiQuang\"]\n",
        "\n",
        "    print(Remove_nth(text, 5))"
      ],
      "metadata": {
        "id": "_FyEOE9cfwR4",
        "outputId": "434b5c76-7d7f-4740-9137-6182f6f6cd92",
        "colab": {
          "base_uri": "https://localhost:8080/"
        }
      },
      "execution_count": 149,
      "outputs": [
        {
          "output_type": "stream",
          "name": "stdout",
          "text": [
            "Lu Trng Thang bu Lon tre em\n"
          ]
        }
      ]
    },
    {
      "cell_type": "code",
      "execution_count": 150,
      "metadata": {
        "id": "qah9Vo2EBtK0",
        "outputId": "b5553715-65a0-446f-a168-0bb9fa48daef",
        "colab": {
          "base_uri": "https://localhost:8080/",
          "height": 35
        }
      },
      "outputs": [
        {
          "output_type": "execute_result",
          "data": {
            "text/plain": [
              "'gu Trong Thang tham nhunL'"
            ],
            "application/vnd.google.colaboratory.intrinsic+json": {
              "type": "string"
            }
          },
          "metadata": {},
          "execution_count": 150
        }
      ],
      "source": [
        "#.9 Exchange first and last chars's positions from given string\n",
        "def Char_exchange(text):\n",
        "   return text[-1] + text[1:-1] + text[0] if (text != None) else None\n",
        "\n",
        "text = \"Lu Trong Thang tham nhung\"\n",
        "Char_exchange(text)"
      ]
    },
    {
      "cell_type": "code",
      "execution_count": 151,
      "metadata": {
        "id": "JTL2Y8fsBtK4",
        "outputId": "0889101c-53c9-47ce-b522-ae4c386ae00a",
        "colab": {
          "base_uri": "https://localhost:8080/",
          "height": 35
        }
      },
      "outputs": [
        {
          "output_type": "execute_result",
          "data": {
            "text/plain": [
              "'H h ihl hn udm'"
            ],
            "application/vnd.google.colaboratory.intrinsic+json": {
              "type": "string"
            }
          },
          "metadata": {},
          "execution_count": 151
        }
      ],
      "source": [
        "#.10 Remove characters in the string with odd number index\n",
        "def Rm_odd_chars(text):\n",
        "    new_text = ''\n",
        "    for i in range(len(text)):\n",
        "        new_text = new_text + text[i] if(i % 2 == 0) else new_text+ ''\n",
        "    return new_text\n",
        "\n",
        "text = \"Ho Chi Minh la thang au dam\"\n",
        "Rm_odd_chars(text)"
      ]
    },
    {
      "cell_type": "code",
      "execution_count": 152,
      "metadata": {
        "id": "LXh0OxULBtK5",
        "colab": {
          "base_uri": "https://localhost:8080/"
        },
        "outputId": "9f7d6d8a-fd5f-4a43-ec15-601fa698d5e6"
      },
      "outputs": [
        {
          "output_type": "execute_result",
          "data": {
            "text/plain": [
              "{'Ozymandias': 2,\n",
              " '': 4,\n",
              " 'By': 1,\n",
              " 'Percy': 1,\n",
              " 'Bysshe': 1,\n",
              " 'ShellyI': 1,\n",
              " 'met': 1,\n",
              " 'a': 2,\n",
              " 'traveller': 1,\n",
              " 'from': 1,\n",
              " 'an': 1,\n",
              " 'antique': 1,\n",
              " 'landWho': 1,\n",
              " 'said': 1,\n",
              " 'Two': 1,\n",
              " 'vast': 1,\n",
              " 'and': 6,\n",
              " 'trunkless': 1,\n",
              " 'legs': 1,\n",
              " 'of': 3,\n",
              " 'stoneStand': 1,\n",
              " 'in': 1,\n",
              " 'the': 5,\n",
              " 'desert': 1,\n",
              " 'Near': 1,\n",
              " 'them': 2,\n",
              " 'on': 4,\n",
              " 'sandHalf': 1,\n",
              " 'sunk': 1,\n",
              " 'shattered': 1,\n",
              " 'visage': 1,\n",
              " 'lies': 1,\n",
              " 'whose': 1,\n",
              " 'frownAnd': 1,\n",
              " 'wrinkled': 1,\n",
              " 'lip': 1,\n",
              " 'sneer': 1,\n",
              " 'cold': 1,\n",
              " 'commandTell': 1,\n",
              " 'that': 4,\n",
              " 'its': 1,\n",
              " 'sculptor': 1,\n",
              " 'well': 1,\n",
              " 'those': 1,\n",
              " 'passions': 1,\n",
              " 'readWhich': 1,\n",
              " 'yet': 1,\n",
              " 'survive': 1,\n",
              " 'stamped': 1,\n",
              " 'these': 2,\n",
              " 'lifeless': 1,\n",
              " 'thingsThe': 1,\n",
              " 'hand': 1,\n",
              " 'mocked': 1,\n",
              " 'heart': 1,\n",
              " 'fedAnd': 1,\n",
              " 'pedestal': 1,\n",
              " 'words': 1,\n",
              " 'appearMy': 1,\n",
              " 'name': 1,\n",
              " 'is': 1,\n",
              " 'King': 1,\n",
              " 'KingsLook': 1,\n",
              " 'my': 1,\n",
              " 'Works': 1,\n",
              " 'ye': 1,\n",
              " 'Mighty': 1,\n",
              " 'despairNothing': 1,\n",
              " 'beside': 1,\n",
              " 'remains': 1,\n",
              " 'Round': 1,\n",
              " 'decayOf': 1,\n",
              " 'colossal': 1,\n",
              " 'Wreck': 1,\n",
              " 'boundless': 1,\n",
              " 'bareThe': 1,\n",
              " 'lone': 1,\n",
              " 'level': 1,\n",
              " 'sands': 1,\n",
              " 'stretch': 1,\n",
              " 'far': 1,\n",
              " 'away': 1}"
            ]
          },
          "metadata": {},
          "execution_count": 152
        }
      ],
      "source": [
        "#.11 Print out the frequency of each word in a sentence\n",
        "import re\n",
        "def Word_freq(sentence):\n",
        "    freq_map = {}\n",
        "    sentence = re.sub(r\"[^A-Za-z ]\", \"\", sentence)\n",
        "    words_list = sentence.split(\" \")\n",
        "    for w in words_list:\n",
        "        count = 0\n",
        "        if (w not in freq_map.keys()):\n",
        "            count += 1\n",
        "            freq_map.update({w:count})\n",
        "        else:\n",
        "            freq_map[w] += 1\n",
        "            freq_map.update({w:freq_map[w]})\n",
        "    return freq_map\n",
        "\n",
        "sentence = \"\"\"\n",
        "Ozymandias - By Percy Bysshe Shelly\n",
        "\n",
        "I met a traveller from an antique land,\n",
        "Who said— “Two vast and trunkless legs of stone\n",
        "Stand in the desert. . . . Near them, on the sand,\n",
        "Half sunk a shattered visage lies, whose frown,\n",
        "And wrinkled lip, and sneer of cold command,\n",
        "Tell that its sculptor well those passions read\n",
        "Which yet survive, stamped on these lifeless things,\n",
        "The hand that mocked them, and the heart that fed;\n",
        "And on the pedestal, these words appear:\n",
        "My name is Ozymandias, King of Kings;\n",
        "Look on my Works, ye Mighty, and despair!\n",
        "Nothing beside remains. Round the decay\n",
        "Of that colossal Wreck, boundless and bare\n",
        "The lone and level sands stretch far away.\n",
        "\"\"\"\n",
        "\n",
        "Word_freq(sentence)"
      ]
    },
    {
      "cell_type": "code",
      "execution_count": 153,
      "metadata": {
        "id": "TV45rhxJBtK5",
        "outputId": "f1fd7a5d-c484-4792-cceb-cc87b1fc0767",
        "colab": {
          "base_uri": "https://localhost:8080/",
          "height": 35
        }
      },
      "outputs": [
        {
          "output_type": "execute_result",
          "data": {
            "text/plain": [
              "'<p>Ho may lam ho nhieu ten</p>'"
            ],
            "application/vnd.google.colaboratory.intrinsic+json": {
              "type": "string"
            }
          },
          "metadata": {},
          "execution_count": 153
        }
      ],
      "source": [
        "#.12 Create HTML string from given tag and text\n",
        "def Add_tags(tag, text):\n",
        "    return f'<{tag}>{text}</{tag}>'\n",
        "\n",
        "text = \"Ho may lam ho nhieu ten\"\n",
        "Add_tags(\"p\",text)"
      ]
    },
    {
      "cell_type": "code",
      "execution_count": 154,
      "metadata": {
        "id": "6RgBL8G4BtK6",
        "outputId": "3349ef03-3128-4fb3-f995-1394d1ef28c7",
        "colab": {
          "base_uri": "https://localhost:8080/",
          "height": 35
        }
      },
      "outputs": [
        {
          "output_type": "execute_result",
          "data": {
            "text/plain": [
              "'{{{A ti bac bi khao tra}}}'"
            ],
            "application/vnd.google.colaboratory.intrinsic+json": {
              "type": "string"
            }
          },
          "metadata": {},
          "execution_count": 154
        }
      ],
      "source": [
        "#.13 Insert a string in the middle of another string\n",
        "def Insert_string_middle(text1, text2):\n",
        "    mid = len(text1)/2\n",
        "    return f'{text1[:int(mid)]}{text2}{text1[int(mid):]}'\n",
        "\n",
        "text1 = \"{{{}}}\"\n",
        "text2 = \"A ti bac bi khao tra\"\n",
        "Insert_string_middle(text1,text2)"
      ]
    },
    {
      "cell_type": "code",
      "execution_count": 155,
      "metadata": {
        "id": "lI1PvOb8BtK6",
        "outputId": "0a0d1e6a-8715-43a9-92f0-088cb85f7982",
        "colab": {
          "base_uri": "https://localhost:8080/",
          "height": 35
        }
      },
      "outputs": [
        {
          "output_type": "execute_result",
          "data": {
            "text/plain": [
              "'aiaiaiai'"
            ],
            "application/vnd.google.colaboratory.intrinsic+json": {
              "type": "string"
            }
          },
          "metadata": {},
          "execution_count": 155
        }
      ],
      "source": [
        "#.14\n",
        "def Insert_end(text):\n",
        "    return \"\".join([text[-2:] for c in range(4)])\n",
        "\n",
        "text = \"Nguu dau ma dien cho la man khai\"\n",
        "Insert_end(text)"
      ]
    },
    {
      "cell_type": "code",
      "execution_count": 156,
      "metadata": {
        "id": "tD1cQclRBtK7",
        "outputId": "850a1c91-6c0c-41be-f2b5-0ce6b93d4490",
        "colab": {
          "base_uri": "https://localhost:8080/",
          "height": 35
        }
      },
      "outputs": [
        {
          "output_type": "execute_result",
          "data": {
            "text/plain": [
              "'Ho '"
            ],
            "application/vnd.google.colaboratory.intrinsic+json": {
              "type": "string"
            }
          },
          "metadata": {},
          "execution_count": 156
        }
      ],
      "source": [
        "#.15 Print out first three characters of a string\n",
        "def First_three(text):\n",
        "    return \"\".join(text[:3])\n",
        "\n",
        "text = \"Ho may song doi gian ta\"\n",
        "First_three(text)"
      ]
    },
    {
      "cell_type": "code",
      "execution_count": 157,
      "metadata": {
        "id": "JvlNxhMgBtK8",
        "outputId": "afd18d32-4dd5-4652-ea72-f391686911a2",
        "colab": {
          "base_uri": "https://localhost:8080/",
          "height": 35
        }
      },
      "outputs": [
        {
          "output_type": "execute_result",
          "data": {
            "text/plain": [
              "'atnaig cut peit yam gnaD ueN'"
            ],
            "application/vnd.google.colaboratory.intrinsic+json": {
              "type": "string"
            }
          },
          "metadata": {},
          "execution_count": 157
        }
      ],
      "source": [
        "#.16 Reverse a string if the text length is a multiply of 4\n",
        "def Reverse_str(text):\n",
        "    return text[::-1] if (len(text)%4==0) else text\n",
        "\n",
        "text = \"Neu Dang may tiep tuc gianta\"\n",
        "Reverse_str(text)"
      ]
    },
    {
      "cell_type": "code",
      "execution_count": 158,
      "metadata": {
        "id": "at69xla-BtK8",
        "outputId": "917e3433-6c5b-42e5-d24b-9ca9a019727c",
        "colab": {
          "base_uri": "https://localhost:8080/",
          "height": 35
        }
      },
      "outputs": [
        {
          "output_type": "execute_result",
          "data": {
            "text/plain": [
              "'aadfs'"
            ],
            "application/vnd.google.colaboratory.intrinsic+json": {
              "type": "string"
            }
          },
          "metadata": {},
          "execution_count": 158
        }
      ],
      "source": [
        "#.17 To sort a string lexicographically.\n",
        "def Lexi_sort(text):\n",
        "    alphabet_map = {chr(96 + i): i for i in range(1, 27)}\n",
        "    text = str(text).lower()\n",
        "    text_list = list(text)\n",
        "    for i in range(len(text_list) - 1):\n",
        "        min_idx = i\n",
        "        for j in range(i + 1, len(text_list)):\n",
        "            if alphabet_map[text_list[j]] < alphabet_map[text_list[min_idx]]:\n",
        "                min_idx = j\n",
        "\n",
        "        text_list[i], text_list[min_idx] = text_list[min_idx], text_list[i]\n",
        "\n",
        "    return \"\".join(text_list)\n",
        "\n",
        "Lexi_sort(\"aasdf\")"
      ]
    },
    {
      "cell_type": "code",
      "execution_count": 159,
      "metadata": {
        "id": "R2ac2ej9BtK9",
        "outputId": "e129a0af-e1f9-48a4-b642-55b62c40d7bf",
        "colab": {
          "base_uri": "https://localhost:8080/",
          "height": 35
        }
      },
      "outputs": [
        {
          "output_type": "execute_result",
          "data": {
            "text/plain": [
              "'wklqpdbqvhqelqfxsqtxdqwkdpqqxrl'"
            ],
            "application/vnd.google.colaboratory.intrinsic+json": {
              "type": "string"
            }
          },
          "metadata": {},
          "execution_count": 159
        }
      ],
      "source": [
        "#.18 Ceasar cypher encrypter\n",
        "def Ceasar_enc(text:str, key:int):\n",
        "    text = str(text).lower()\n",
        "    cipher_text = \"\"\n",
        "    for i in range(len(text)):\n",
        "        char = text[i]\n",
        "        cipher_text += chr((ord(char) + key-97) % 26 + 97)\n",
        "\n",
        "    return cipher_text\n",
        "\n",
        "text = \"Thi may se bi cup qua tham nuoi\"\n",
        "Ceasar_enc(text, 3)"
      ]
    },
    {
      "cell_type": "code",
      "execution_count": 160,
      "metadata": {
        "id": "V9dAE9K9BtK9",
        "outputId": "5b311340-aad8-4ef2-b3cb-fff93599ceb0",
        "colab": {
          "base_uri": "https://localhost:8080/",
          "height": 35
        }
      },
      "outputs": [
        {
          "output_type": "execute_result",
          "data": {
            "text/plain": [
              "'ed uar hnim'"
            ],
            "application/vnd.google.colaboratory.intrinsic+json": {
              "type": "string"
            }
          },
          "metadata": {},
          "execution_count": 160
        }
      ],
      "source": [
        "#.19 To reverse a string.\n",
        "def Str_reversal(text):\n",
        "    return \"\".join([text[len(text)-i-1] for i in range(len(text))])\n",
        "\n",
        "text = \"minh rau de\"\n",
        "Str_reversal(text)"
      ]
    },
    {
      "cell_type": "code",
      "execution_count": 161,
      "metadata": {
        "colab": {
          "base_uri": "https://localhost:8080/",
          "height": 35
        },
        "id": "hIjweqVLBtK9",
        "outputId": "7092343f-6e94-4629-da7e-53eb17ea3cb5"
      },
      "outputs": [
        {
          "output_type": "execute_result",
          "data": {
            "text/plain": [
              "'MANAGER ESQUIRE!'"
            ],
            "application/vnd.google.colaboratory.intrinsic+json": {
              "type": "string"
            }
          },
          "metadata": {},
          "execution_count": 161
        }
      ],
      "source": [
        "#.20 To uppercase if string has 2 or more uppercases in the first 4 characters\n",
        "def To_uppercase(text):\n",
        "  count = 0\n",
        "  for i in range(0,4):\n",
        "    if (ord(text[i]) >=65 and ord(text[i]) <= 90):\n",
        "      count += 1\n",
        "\n",
        "  return str(text).upper() if(count >= 2) else text\n",
        "\n",
        "text = \"ManAger esquire!\"\n",
        "To_uppercase(text)"
      ]
    },
    {
      "cell_type": "code",
      "source": [
        "#.21 To remove newline from string\n",
        "import re\n",
        "def Strip_newline(text):\n",
        "  return re.sub(r\"[\\n]\", \"\", text)\n",
        "\n",
        "text = \"Cha! Maganera\\n\"\n",
        "Strip_newline(text)"
      ],
      "metadata": {
        "colab": {
          "base_uri": "https://localhost:8080/",
          "height": 35
        },
        "id": "7_YO2TRgPJam",
        "outputId": "f4f2fd33-5fc5-451b-959f-ffe9c38df453"
      },
      "execution_count": 162,
      "outputs": [
        {
          "output_type": "execute_result",
          "data": {
            "text/plain": [
              "'Cha! Maganera'"
            ],
            "application/vnd.google.colaboratory.intrinsic+json": {
              "type": "string"
            }
          },
          "metadata": {},
          "execution_count": 162
        }
      ]
    },
    {
      "cell_type": "code",
      "source": [
        "#.22 Display formatted text (width=50)\n",
        "import textwrap\n",
        "def Display_formatted_text(text):\n",
        "  return textwrap.fill(text, width=50)\n",
        "\n",
        "text = \"\"\"Epitaph\n",
        "An old willow with hollow branchess\n",
        "lowly swayed his few high gright tendrils\n",
        "and sang:\n",
        "\n",
        "Love is a young green willow\n",
        "shimmering at the bare wood’s edge.\"\"\"\n",
        "print(Display_formatted_text(text))"
      ],
      "metadata": {
        "colab": {
          "base_uri": "https://localhost:8080/"
        },
        "id": "zlRXr3QfRuCG",
        "outputId": "77dec04d-6682-4042-8bb6-04f2ef1086fb"
      },
      "execution_count": 163,
      "outputs": [
        {
          "output_type": "stream",
          "name": "stdout",
          "text": [
            "Epitaph An old willow with hollow branchess lowly\n",
            "swayed his few high gright tendrils and sang:\n",
            "Love is a young green willow shimmering at the\n",
            "bare wood’s edge.\n"
          ]
        }
      ]
    },
    {
      "cell_type": "code",
      "source": [
        "#.23 Check whether a string starts with specified characters\n",
        "def Check_string_start(text, start):\n",
        "  return text.startswith(start)\n",
        "\n",
        "text = \"\"\"The Gentle Man\n",
        "I feel the caress of my own fingers\n",
        "on my own neck as I place my collar\n",
        "and think pityingly\n",
        "of the kind women I have known.\"\"\"\n",
        "start = \"The\"\n",
        "print(Check_string_start(text, start))"
      ],
      "metadata": {
        "colab": {
          "base_uri": "https://localhost:8080/"
        },
        "id": "7UUQSz4cTPHg",
        "outputId": "782ca8ea-64c7-44d8-a316-370d1b539615"
      },
      "execution_count": 164,
      "outputs": [
        {
          "output_type": "stream",
          "name": "stdout",
          "text": [
            "True\n"
          ]
        }
      ]
    },
    {
      "cell_type": "code",
      "source": [
        "#.24 Add a prefix text to all of the lines in a string\n",
        "def Add_prefix(text, prefix):\n",
        "  new_text = \"\"\n",
        "  for line in text.split(\"\\n\"):\n",
        "    new_text += prefix + \" \" + line + \"\\n\"\n",
        "  return new_text\n",
        "\n",
        "text = \"\"\"Dawn\n",
        "Ecstatic bird songs pound\n",
        "the hollow vastness of the sky\n",
        "with metallic clinkings—\n",
        "beating color up into it\n",
        "at a far edge,—beating it, beating it\n",
        "with rising, triumphant ardor,—\n",
        "stirring it into warmth,\n",
        "quickening in it a spreading change,—\n",
        "bursting wildly against it as\n",
        "dividing the horizon, a heavy sun\n",
        "lifts himself—is lifted—\n",
        "bit by bit above the edge\n",
        "of things,—runs free at last\n",
        "out into the open—!lumbering\n",
        "glorified in full release upward—\n",
        "                              songs cease.\"\"\"\n",
        "\n",
        "print(Add_prefix(text, \">\"))"
      ],
      "metadata": {
        "colab": {
          "base_uri": "https://localhost:8080/"
        },
        "id": "hsIYi2TDVF9_",
        "outputId": "026070f3-51ac-46cb-ab1b-f1bc8a52d1d8"
      },
      "execution_count": 165,
      "outputs": [
        {
          "output_type": "stream",
          "name": "stdout",
          "text": [
            "> Dawn\n",
            "> Ecstatic bird songs pound\n",
            "> the hollow vastness of the sky\n",
            "> with metallic clinkings—\n",
            "> beating color up into it\n",
            "> at a far edge,—beating it, beating it\n",
            "> with rising, triumphant ardor,—\n",
            "> stirring it into warmth,\n",
            "> quickening in it a spreading change,—\n",
            "> bursting wildly against it as\n",
            "> dividing the horizon, a heavy sun\n",
            "> lifts himself—is lifted—\n",
            "> bit by bit above the edge\n",
            "> of things,—runs free at last\n",
            "> out into the open—!lumbering\n",
            "> glorified in full release upward—\n",
            ">                               songs cease.\n",
            "\n"
          ]
        }
      ]
    },
    {
      "cell_type": "code",
      "source": [
        "#.25 Set the indentation of the first line\n",
        "def Set_indentation(text):\n",
        "  new_text = text.split(\"\\n\")[0]\n",
        "  for i in range(1, len(text.split(\"\\n\"))):\n",
        "    new_text +=  \"\\t\" + text.split(\"\\n\")[i] + \"\\n\"\n",
        "  return new_text\n",
        "\n",
        "text = \"\"\"El Hombre\n",
        "\n",
        "It’s a strange courage\n",
        "you give me ancient star:\n",
        "\n",
        "Shine alone in the sunrise\n",
        "toward which you lend no part!\"\"\"\n",
        "\n",
        "print(Set_indentation(text))"
      ],
      "metadata": {
        "colab": {
          "base_uri": "https://localhost:8080/"
        },
        "id": "CXUiq11WVy4p",
        "outputId": "c85ce321-3ea0-4963-91f3-f92086e4796a"
      },
      "execution_count": 166,
      "outputs": [
        {
          "output_type": "stream",
          "name": "stdout",
          "text": [
            "El Hombre\t\n",
            "\tIt’s a strange courage\n",
            "\tyou give me ancient star:\n",
            "\t\n",
            "\tShine alone in the sunrise\n",
            "\ttoward which you lend no part!\n",
            "\n"
          ]
        }
      ]
    },
    {
      "cell_type": "code",
      "source": [
        "#.26 Reverse words in a string\n",
        "def Reverse_words(text):\n",
        "  text = re.sub(r\"[^A-Za-z ]\", \"\", text)\n",
        "  words_list = text.split(\" \")\n",
        "  return \"\".join([f'{text[::-1]} ' for text in words_list])\n",
        "\n",
        "text = \"\"\"The Poor\n",
        "By constantly tormenting them\n",
        "with reminders of the lice in\n",
        "their children’s hair, the\n",
        "School Physician first\n",
        "brought their hatred down on him.\n",
        "But by this familiarity\n",
        "they grew used to him, and so,\n",
        "at last,\n",
        "took him for their friend and adviser.\"\"\"\n",
        "\n",
        "print(Reverse_words(text))"
      ],
      "metadata": {
        "colab": {
          "base_uri": "https://localhost:8080/"
        },
        "id": "2d7UKhxrWUg3",
        "outputId": "764a6fc7-dd45-4e5b-a296-a5a7827e3b08"
      },
      "execution_count": 167,
      "outputs": [
        {
          "output_type": "stream",
          "name": "stdout",
          "text": [
            "ehT yBrooP yltnatsnoc gnitnemrot htiwmeht srednimer fo eht ecil riehtni snerdlihc riah loohcSeht naicisyhP thguorbtsrif rieht dertah nwod no tuBmih yb siht yehtytirailimaf werg desu ot mih dna taos koottsal mih rof rieht dneirf dna resivda \n"
          ]
        }
      ]
    },
    {
      "cell_type": "code",
      "source": [
        "#.27 Print the index of a character in a string\n",
        "def Chars_n_Indexes(text):\n",
        "  return([f\"Current character {text[i]} position at {i}\" for i in range(len(text))])\n",
        "\n",
        "text = \"Epitaph\"\n",
        "(Chars_n_Indexes(text))"
      ],
      "metadata": {
        "colab": {
          "base_uri": "https://localhost:8080/"
        },
        "id": "hP2VBanYZs1I",
        "outputId": "b84a0b11-361c-43af-c755-6b25fad40e0b"
      },
      "execution_count": 168,
      "outputs": [
        {
          "output_type": "execute_result",
          "data": {
            "text/plain": [
              "['Current character E position at 0',\n",
              " 'Current character p position at 1',\n",
              " 'Current character i position at 2',\n",
              " 'Current character t position at 3',\n",
              " 'Current character a position at 4',\n",
              " 'Current character p position at 5',\n",
              " 'Current character h position at 6']"
            ]
          },
          "metadata": {},
          "execution_count": 168
        }
      ]
    },
    {
      "cell_type": "code",
      "source": [
        "#.28 Convert a given string into a list of words\n",
        "def Convert_2_words_list(text):\n",
        "  return re.sub(r\"[^A-Za-z ]\", \"\", text).split(\" \")\n",
        "\n",
        "text = \"\"\"You sullen pig of a man\n",
        "you force me into the mud\n",
        "with your stinking ash-cart!\n",
        "Brother!\"\"\"\n",
        "\n",
        "print(Convert_2_words_list(text))"
      ],
      "metadata": {
        "colab": {
          "base_uri": "https://localhost:8080/"
        },
        "id": "rXlqAHmwbyiv",
        "outputId": "8326187d-ec6d-4a99-b0b1-5b2a7d3a827a"
      },
      "execution_count": 169,
      "outputs": [
        {
          "output_type": "stream",
          "name": "stdout",
          "text": [
            "['You', 'sullen', 'pig', 'of', 'a', 'manyou', 'force', 'me', 'into', 'the', 'mudwith', 'your', 'stinking', 'ashcartBrother']\n"
          ]
        }
      ]
    },
    {
      "cell_type": "code",
      "source": [
        "#.29 lowercase the first n characters in a string\n",
        "def Lower_nth_letter(text, n):\n",
        "  return \"\".join([f\"{str(text[i]).lower()}\" if(i < n) else f\"{str(text[i])}\" for i in range(len(text))])\n",
        "text = \"THERE IS no more pride in horses or in rein holding\"\n",
        "print(Lower_nth_letter(text, 5))"
      ],
      "metadata": {
        "colab": {
          "base_uri": "https://localhost:8080/"
        },
        "id": "IfnUIiolc9yk",
        "outputId": "79c7b3c8-3745-4f64-af3c-32920e76a543"
      },
      "execution_count": 170,
      "outputs": [
        {
          "output_type": "stream",
          "name": "stdout",
          "text": [
            "there IS no more pride in horses or in rein holding\n"
          ]
        }
      ]
    },
    {
      "cell_type": "code",
      "source": [
        "#.30 Count and display vowels in text\n",
        "def Count_n_display_vowels(text):\n",
        "  vowels = {\"a\":0, \"e\":0, \"u\":0, \"i\":0, \"o\":0}\n",
        "  for c in str(text).lower():\n",
        "    if (c in vowels.keys()):\n",
        "      vowels[c] += 1\n",
        "  return vowels\n",
        "\n",
        "text = \"\"\"January Morning: Suite 03\n",
        "— and from basement entries\n",
        "neatly coiffed, middle aged gentlemen\n",
        "with orderly moustaches and\n",
        "well-brushed coats\"\"\"\n",
        "Count_n_display_vowels(text)"
      ],
      "metadata": {
        "id": "OLpx3L4TeQyZ",
        "colab": {
          "base_uri": "https://localhost:8080/"
        },
        "outputId": "da48e95e-0720-422b-bfb2-17b79b4fbaa2"
      },
      "execution_count": 171,
      "outputs": [
        {
          "output_type": "execute_result",
          "data": {
            "text/plain": [
              "{'a': 9, 'e': 16, 'u': 4, 'i': 6, 'o': 6}"
            ]
          },
          "metadata": {},
          "execution_count": 171
        }
      ]
    },
    {
      "cell_type": "code",
      "source": [
        "#.31  Find the first repeated word in a given string.\n",
        "import re\n",
        "def First_repeated(text):\n",
        "  freq_map = {}\n",
        "  words_list = re.sub(r\"[^A-Za-z ]\", \"\", text).split(\" \")\n",
        "  for w in words_list:\n",
        "    if (w not in freq_map.keys()):\n",
        "      freq_map.update({w:1})\n",
        "    else:\n",
        "      freq_map[w] += 1\n",
        "\n",
        "    if (freq_map[w] > 1):\n",
        "      return f'First repeated word: \"{w}\"'\n",
        "  return 'No repeated word'\n",
        "\n",
        "text = \"\"\"March\n",
        "I\n",
        "\n",
        "Winter is long in this climate\n",
        "and spring—a matter of a few days\n",
        "only,—a flower or two picked\n",
        "from mud or from among wet leaves\n",
        "or at best against treacherous\n",
        "bitterness of wind, and sky shining\n",
        "teasingly, then closing in black\n",
        "and sudden, with fierce jaws.\"\"\"\n",
        "print(First_repeated(text))"
      ],
      "metadata": {
        "colab": {
          "base_uri": "https://localhost:8080/"
        },
        "id": "-wxt9Xw8YZkf",
        "outputId": "874e0401-231e-463b-a180-64ec2c619b9a"
      },
      "execution_count": 172,
      "outputs": [
        {
          "output_type": "stream",
          "name": "stdout",
          "text": [
            "First repeated word: \"or\"\n"
          ]
        }
      ]
    },
    {
      "cell_type": "code",
      "source": [
        "#.32 Print the following integers with zeros on the left of specified width\n",
        "def Padding_int(number, width):\n",
        "  zeros = \"\"\n",
        "  for i in range(width):\n",
        "    zeros += \"0\"\n",
        "  return zeros + str(number)\n",
        "text = 1234\n",
        "print(Padding_int(text,4))"
      ],
      "metadata": {
        "colab": {
          "base_uri": "https://localhost:8080/"
        },
        "id": "lrt5k4EVaUQZ",
        "outputId": "ad501b63-9379-46ff-b707-07a66f5479a7"
      },
      "execution_count": 173,
      "outputs": [
        {
          "output_type": "stream",
          "name": "stdout",
          "text": [
            "00001234\n"
          ]
        }
      ]
    },
    {
      "cell_type": "code",
      "source": [
        "#.33 Print the following integers with '*' to the right of the specified width\n",
        "def Padding_stars(number, width):\n",
        "  zeros = \"\"\n",
        "  for i in range(width):\n",
        "    zeros += \"*\"\n",
        "  return zeros + str(number)\n",
        "text = 1234\n",
        "print(Padding_stars(text,4))"
      ],
      "metadata": {
        "colab": {
          "base_uri": "https://localhost:8080/"
        },
        "id": "XRV2yuJAeZhU",
        "outputId": "87dc6d0a-8815-49a2-8930-9fd80bd6bf69"
      },
      "execution_count": 174,
      "outputs": [
        {
          "output_type": "stream",
          "name": "stdout",
          "text": [
            "****1234\n"
          ]
        }
      ]
    },
    {
      "cell_type": "code",
      "source": [
        "#.34 Display a number with a comma separator\n",
        "def Comma_separators(number):\n",
        "  return f\"{number:,}\"\n",
        "number = 3000000000\n",
        "print(Comma_separators(number))"
      ],
      "metadata": {
        "colab": {
          "base_uri": "https://localhost:8080/"
        },
        "id": "YV-C6nRZeaSv",
        "outputId": "6c0462c7-ff62-419f-e50e-380ccd2b5f81"
      },
      "execution_count": 175,
      "outputs": [
        {
          "output_type": "stream",
          "name": "stdout",
          "text": [
            "3,000,000,000\n"
          ]
        }
      ]
    },
    {
      "cell_type": "code",
      "source": [
        "#.35 Format a number with a percentage\n",
        "def Percent_formatter(number):\n",
        "  return f\"{str(number*100)[:6]}%\"\n",
        "\n",
        "number = 0.54324234\n",
        "print(Percent_formatter(number))"
      ],
      "metadata": {
        "colab": {
          "base_uri": "https://localhost:8080/"
        },
        "id": "0vtcIZ-CebUW",
        "outputId": "0d120e14-aa38-4711-8110-2760da173a05"
      },
      "execution_count": 176,
      "outputs": [
        {
          "output_type": "stream",
          "name": "stdout",
          "text": [
            "54.324%\n"
          ]
        }
      ]
    },
    {
      "cell_type": "code",
      "source": [
        "#.36 Count repeated characters in a string\n",
        "def Repeated_words(text):\n",
        "    freq_map = {}\n",
        "    for c in text:\n",
        "        if (c not in freq_map.keys()):\n",
        "            freq_map.update({c : 1})\n",
        "        else:\n",
        "            freq_map[c] += 1\n",
        "    for k in freq_map.keys():\n",
        "        if (freq_map[k] > 1 and k != \" \"):\n",
        "            print(f'{k} : {freq_map[k]}')\n",
        "\n",
        "text = \"\"\"happy families are all alike; unhappy families are unhappy in their own way\"\"\"\n",
        "Repeated_words(text)"
      ],
      "metadata": {
        "colab": {
          "base_uri": "https://localhost:8080/"
        },
        "id": "08yvK-gZecjD",
        "outputId": "2bd37e49-bf2f-420b-a7f4-055183879238"
      },
      "execution_count": 177,
      "outputs": [
        {
          "output_type": "stream",
          "name": "stdout",
          "text": [
            "h : 4\n",
            "a : 10\n",
            "p : 6\n",
            "y : 4\n",
            "f : 2\n",
            "m : 2\n",
            "i : 7\n",
            "l : 5\n",
            "e : 6\n",
            "s : 2\n",
            "r : 3\n",
            "u : 2\n",
            "n : 4\n",
            "w : 2\n"
          ]
        }
      ]
    },
    {
      "cell_type": "code",
      "source": [
        "#.37 Check whether a string contains all letters of the alphabet\n",
        "def alphabet_check(text):\n",
        "  alphabet_map = {chr(96 + i): i for i in range(1, 27)}\n",
        "  for k in alphabet_map.keys():\n",
        "    if (k not in text):\n",
        "      return False\n",
        "  return True\n",
        "\n",
        "text = \"\"\"\n",
        "The Nightingales\n",
        "My shoes as I lean\n",
        "unlacing them\n",
        "stand out upon\n",
        "flat worsted flowers\n",
        "under my feet.\n",
        "Nimbly the shadows\n",
        "of my fingers play\n",
        "unlacing\n",
        "over shoes and flowers.\n",
        "\"\"\"\n",
        "alphabet_check(text)"
      ],
      "metadata": {
        "colab": {
          "base_uri": "https://localhost:8080/"
        },
        "id": "HOSAIUvOeduN",
        "outputId": "8a28288e-7b45-4a48-ef3b-1c85c73d69e8"
      },
      "execution_count": 178,
      "outputs": [
        {
          "output_type": "execute_result",
          "data": {
            "text/plain": [
              "False"
            ]
          },
          "metadata": {},
          "execution_count": 178
        }
      ]
    },
    {
      "cell_type": "code",
      "source": [
        "#.38 Find the first non-repeating character in a given string\n",
        "def First_non_repeated(text):\n",
        "  freq_map = {}\n",
        "  words_list = re.sub(r\"[^A-Za-z ]\", \"\", str(text).lower()).split(\" \")\n",
        "  for w in words_list:\n",
        "    if (w not in freq_map.keys()):\n",
        "      freq_map.update({w:1})\n",
        "    else:\n",
        "      freq_map[w] += 1\n",
        "  for w in freq_map.keys():\n",
        "    if (freq_map[w] == 1):\n",
        "      return f'First non-repeated word: \"{w}\"'\n",
        "  return 'No non-repeated word'\n",
        "\n",
        "text = \"\"\"The Red Wheelbarrow\n",
        "so much depends\n",
        "upon\n",
        "\n",
        "a red wheel\n",
        "barrow\n",
        "\n",
        "glazed with rain\n",
        "water\n",
        "\n",
        "beside the white\n",
        "chickens\"\"\"\n",
        "\n",
        "print(First_non_repeated(text))"
      ],
      "metadata": {
        "colab": {
          "base_uri": "https://localhost:8080/"
        },
        "id": "VEGW2zP6efVA",
        "outputId": "8fb51c9a-0130-4c65-ce72-ffc437c9622e"
      },
      "execution_count": 179,
      "outputs": [
        {
          "output_type": "stream",
          "name": "stdout",
          "text": [
            "First non-repeated word: \"wheelbarrowso\"\n"
          ]
        }
      ]
    },
    {
      "cell_type": "code",
      "source": [
        "#.39  Print all permutations with given repetition number of characters of a given string\n",
        "from itertools import product\n",
        "def All_premutations(text, rep):\n",
        "  chars = list(text)\n",
        "  res = []\n",
        "  for i in product(chars, repeat=rep):\n",
        "    res.append(\"\".join(i))\n",
        "  return res\n",
        "\n",
        "text = \"abc\"\n",
        "rep = 3\n",
        "print(All_premutations(text, rep))"
      ],
      "metadata": {
        "colab": {
          "base_uri": "https://localhost:8080/"
        },
        "id": "paD72HICegLb",
        "outputId": "5ba620c4-2116-4ef6-b5a3-259125428264"
      },
      "execution_count": 180,
      "outputs": [
        {
          "output_type": "stream",
          "name": "stdout",
          "text": [
            "['aaa', 'aab', 'aac', 'aba', 'abb', 'abc', 'aca', 'acb', 'acc', 'baa', 'bab', 'bac', 'bba', 'bbb', 'bbc', 'bca', 'bcb', 'bcc', 'caa', 'cab', 'cac', 'cba', 'cbb', 'cbc', 'cca', 'ccb', 'ccc']\n"
          ]
        }
      ]
    },
    {
      "cell_type": "code",
      "source": [
        "#.40 Find the maximum occurring character in a given string\n",
        "def Maximum_occurring(text):\n",
        "  freq_map = {}\n",
        "  text = re.sub(r\"[^A-Za-z]\", \"\", text)\n",
        "  for c in text:\n",
        "    if (c not in freq_map.keys()):\n",
        "      freq_map.update({c : 1})\n",
        "    else:\n",
        "      freq_map[c] += 1\n",
        "  for k in freq_map.keys():\n",
        "    if (freq_map[k] == max(freq_map.values())):\n",
        "      return f'Maximum occurring character: \"{k}\"'\n",
        "\n",
        "text = \"\"\"January Morning: Suite 01\n",
        "I have discovered that most of\n",
        "the beauties of travel are due to\n",
        "the strange hours we keep to see them:\n",
        "\n",
        "the domes of the Church of\n",
        "the Paulist Fathers in Weehawken\n",
        "against a smoky dawn—the heart stirred —\n",
        "are beautiful as Saint Peters\n",
        "approached after years of anticipation.\"\"\"\n",
        "print(Maximum_occurring(text))"
      ],
      "metadata": {
        "colab": {
          "base_uri": "https://localhost:8080/"
        },
        "id": "VpaX90P3ehfJ",
        "outputId": "34e7371f-5037-4b69-e722-9e243f21a2f9"
      },
      "execution_count": 181,
      "outputs": [
        {
          "output_type": "stream",
          "name": "stdout",
          "text": [
            "Maximum occurring character: \"e\"\n"
          ]
        }
      ]
    },
    {
      "cell_type": "code",
      "source": [
        "#.41 remove duplicate characters from a given string\n",
        "def Remove_duplicates(text):\n",
        "  freq_map = {}\n",
        "  new_text = \"\"\n",
        "  for c in text:\n",
        "    if (c not in freq_map.keys()):\n",
        "      freq_map.update({c : 1})\n",
        "    else:\n",
        "      freq_map[c]+=1\n",
        "\n",
        "  for k in freq_map.keys():\n",
        "    if (freq_map[k] > 1):\n",
        "      new_text += k\n",
        "  return new_text\n",
        "\n",
        "text = \"\"\"Subtle, clever brain, wiser than I am,\n",
        "by what devious means do you contrive\n",
        "to remian idle?  Teach me, O master.\n",
        "\"\"\"\n",
        "print(Remove_duplicates(text))"
      ],
      "metadata": {
        "colab": {
          "base_uri": "https://localhost:8080/"
        },
        "id": "YPcKTi2Tei7t",
        "outputId": "f796998d-b635-4ea3-a205-cc835d168150"
      },
      "execution_count": 182,
      "outputs": [
        {
          "output_type": "stream",
          "name": "stdout",
          "text": [
            "ubtle, cvrainwshm\n",
            "ydo\n"
          ]
        }
      ]
    },
    {
      "cell_type": "code",
      "source": [
        "#.42 Compute the sum of the digits in a given string\n",
        "def Sum_string(text):\n",
        "  sum = 0\n",
        "  for c in text:\n",
        "    if (str(c).isdigit()):\n",
        "      sum += int(c)\n",
        "  return sum\n",
        "\n",
        "text = \"\"\"The Gentle Man4\n",
        "I feel the3 caress of my own fingers\n",
        "on my own neck as I place my collar4\n",
        "and think pityingly1\n",
        "of the 9kind women I have 2known.\"\"\"\n",
        "\n",
        "Sum_string(text)"
      ],
      "metadata": {
        "colab": {
          "base_uri": "https://localhost:8080/"
        },
        "id": "3T7iZ_1pel0U",
        "outputId": "e014d119-455c-4b1d-f9a7-87f075559e2a"
      },
      "execution_count": 183,
      "outputs": [
        {
          "output_type": "execute_result",
          "data": {
            "text/plain": [
              "23"
            ]
          },
          "metadata": {},
          "execution_count": 183
        }
      ]
    },
    {
      "cell_type": "code",
      "source": [
        "#.43 Find all the common characters in lexicographical order from two given lower case strings\n",
        "def Compare_string(text1, text2):\n",
        "  text1 = Lexi_sort(text1)\n",
        "  text2 = Lexi_sort(text2)\n",
        "  common_chars = \"\"\n",
        "  for c in text1:\n",
        "    for d in text2:\n",
        "      if (c == d and c not in common_chars):\n",
        "        common_chars += c\n",
        "  return common_chars if (common_chars != \"\") else \"No common characters\"\n",
        "\n",
        "text1 = \"\"\"fasdf\"\"\"\n",
        "text2 = \"\"\"asdff\"\"\"\n",
        "print(Compare_string(text1, text2))"
      ],
      "metadata": {
        "colab": {
          "base_uri": "https://localhost:8080/"
        },
        "id": "SyHhEA6GenDX",
        "outputId": "6cb9386e-6bfd-4488-c42d-3806b066a638"
      },
      "execution_count": 184,
      "outputs": [
        {
          "output_type": "stream",
          "name": "stdout",
          "text": [
            "adfs\n"
          ]
        }
      ]
    },
    {
      "cell_type": "code",
      "source": [
        "#.44  generate two strings from a given string. For the first string, use the characters that occur only once, and for the second, use the characters that occur multiple times in the said string.\n",
        "def String_gen(text):\n",
        "  text_dict = Char_freq(text)\n",
        "  text1 = \"\"\n",
        "  text2 = \"\"\n",
        "  for k in text_dict.keys():\n",
        "    if (text_dict[k] == 1):\n",
        "      text1 += k\n",
        "    else:\n",
        "      text2 += k\n",
        "  return text1, text2\n",
        "\n",
        "text = \"\"\"El Hombre\n",
        "It’s a strange courage\n",
        "you give me ancient star:\n",
        "\n",
        "Shine alone in the sunrise\n",
        "toward which you lend no part!\"\"\"\n",
        "\n",
        "print(\"First string - Characters that occurs only once: \", String_gen(text)[0])\n",
        "print(\"Second string - Characters that repeat: \", String_gen(text)[1])"
      ],
      "metadata": {
        "id": "Xw-wtElBen3x",
        "outputId": "d2800200-d5d2-41dd-8118-03f8e4c7afa4",
        "colab": {
          "base_uri": "https://localhost:8080/"
        }
      },
      "execution_count": 197,
      "outputs": [
        {
          "output_type": "stream",
          "name": "stdout",
          "text": [
            "First string - Characters that occurs only once:  EHbI’v:Sp!\n",
            "Second string - Characters that repeat:  l omre\n",
            "tsangcuyihwd\n"
          ]
        }
      ]
    },
    {
      "cell_type": "code",
      "source": [
        "#.45 Concatenate uncommon characters from two strings\n",
        "def String_concat(text1, text2):\n",
        "  set1 = set(text1)\n",
        "  set2 = set(text2)\n",
        "\n",
        "  common_chars = set1 & set2\n",
        "  result = [ch for ch in set1 if ch not in common_chars] + [ch for ch in set2 if ch not in common_chars]\n",
        "  return \"\".join([s for s in result])\n",
        "\n",
        "text1 = \"abcdef\"\n",
        "text2 = \"efghik\"\n",
        "print(String_concat(text1, text2))"
      ],
      "metadata": {
        "id": "WS9WIAmiepOV",
        "outputId": "476eb907-81a4-4627-8441-6b8be520e383",
        "colab": {
          "base_uri": "https://localhost:8080/"
        }
      },
      "execution_count": 203,
      "outputs": [
        {
          "output_type": "stream",
          "name": "stdout",
          "text": [
            "dbacghik\n"
          ]
        }
      ]
    },
    {
      "cell_type": "code",
      "source": [
        "#.46 Remove all characters except a specified character from a given string\n",
        "def Remove_all_cathy(text, specify):\n",
        "  new_text = text\n",
        "  for c in new_text:\n",
        "    if (c != specify):\n",
        "      new_text = new_text.replace(c, \"\")\n",
        "  return f'> Original string: \\n{text} \\n\\n> Remove all characters except {specify} in the said string:\\n{new_text}'\n",
        "\n",
        "text = \"\"\"January Morning: Suite 01\n",
        "I have discovered that most of\n",
        "the beauties of travel are due to\n",
        "the strange hours we keep to see them:\n",
        "\n",
        "the domes of the Church of\n",
        "the Paulist Fathers in Weehawken\n",
        "against a smoky dawn—the heart stirred —\n",
        "are beautiful as Saint Peters\n",
        "approached after years of anticipation.\"\"\"\n",
        "specify = \"J\"\n",
        "print(Remove_all_cathy(text, specify))"
      ],
      "metadata": {
        "id": "ymrmuvsKeqDF",
        "outputId": "9123b645-6cf4-4a3f-ebfa-3132b444f04d",
        "colab": {
          "base_uri": "https://localhost:8080/"
        }
      },
      "execution_count": 222,
      "outputs": [
        {
          "output_type": "stream",
          "name": "stdout",
          "text": [
            "> Original string: \n",
            "January Morning: Suite 01\n",
            "I have discovered that most of\n",
            "the beauties of travel are due to\n",
            "the strange hours we keep to see them:\n",
            "\n",
            "the domes of the Church of\n",
            "the Paulist Fathers in Weehawken\n",
            "against a smoky dawn—the heart stirred —\n",
            "are beautiful as Saint Peters\n",
            "approached after years of anticipation. \n",
            "\n",
            "> Remove all characters except J in the said string:\n",
            "J\n"
          ]
        }
      ]
    },
    {
      "cell_type": "code",
      "source": [
        "#.47 Find the smallest and largest words in a given string\n",
        "def Max_min_word(text):\n",
        "  words_list = re.sub(r\"[^A-Za-z ]\", \"\", text).split(\" \")\n",
        "  max_word = \"\"\n",
        "  min_word = \"\"\n",
        "  for w in words_list:\n",
        "    if (len(w) > len(max_word)):\n",
        "      max_word = w\n",
        "    if (len(w) < len(min_word) or min_word == \"\"):\n",
        "      min_word = w\n",
        "\n",
        "  return f'Largest word in the text: {max_word} \\nShortest word in the text: {min_word}'\n",
        "\n",
        "text = \"\"\"January Morning: Suite 01\n",
        "I have discovered that most of\n",
        "the beauties of travel are due to\n",
        "the strange hours we keep to see them:\n",
        "\n",
        "the domes of the Church of\n",
        "the Paulist Fathers in Weehawken\n",
        "against a smoky dawn—the heart stirred —\n",
        "are beautiful as Saint Peters\n",
        "approached after years of anticipation.\"\"\"\n",
        "\n",
        "print(Max_min_word(text))\n"
      ],
      "metadata": {
        "id": "c1PAB9cyeqp6",
        "outputId": "036f6b44-130e-4349-a503-b787eb608861",
        "colab": {
          "base_uri": "https://localhost:8080/"
        }
      },
      "execution_count": 225,
      "outputs": [
        {
          "output_type": "stream",
          "name": "stdout",
          "text": [
            "Largest word in the text: anticipation \n",
            "Shortest word in the text: as\n"
          ]
        }
      ]
    },
    {
      "cell_type": "code",
      "source": [
        "#.48 print four integer values - decimal, octal, hexadecimal (capitalized), binary - in a single line\n",
        "def Integer_exchanger(number):\n",
        "  return f'Decimal Octal Hexadecimal Binary\\n{int(number)} {str(oct(int(number)))[2:]} {(str(hex(int(number))).upper())[2:]} {str(bin(int(number)))[2:]}'\n",
        "\n",
        "number = \"25\"\n",
        "print(Integer_exchanger(number))"
      ],
      "metadata": {
        "id": "mY8i05jZer9U",
        "outputId": "0a56f29b-5040-422d-fe12-7b99502e9f12",
        "colab": {
          "base_uri": "https://localhost:8080/"
        }
      },
      "execution_count": 236,
      "outputs": [
        {
          "output_type": "stream",
          "name": "stdout",
          "text": [
            "Decimal Octal Hexadecimal Binary\n",
            "25 31 19 11001\n"
          ]
        }
      ]
    },
    {
      "cell_type": "code",
      "source": [
        "#.49 Convert a given Bytearray to a Hexadecimal string\n",
        "def Byte_2_Hex_converter(byte_array):\n",
        "  return \"\".join([f\"{hex(i)[2:]}\" for i in byte_array])\n",
        "byte_array = [111, 12, 45, 67, 109]\n",
        "print(Byte_2_Hex_converter(byte_array))"
      ],
      "metadata": {
        "id": "sQBG5yiQetAI",
        "outputId": "39b250f0-78c2-48fd-cdb9-96d6ef669b29",
        "colab": {
          "base_uri": "https://localhost:8080/"
        }
      },
      "execution_count": 238,
      "outputs": [
        {
          "output_type": "stream",
          "name": "stdout",
          "text": [
            "6fc2d436d\n"
          ]
        }
      ]
    },
    {
      "cell_type": "code",
      "source": [
        "#.50 Remove all specified characters from a given string\n",
        "def Remove_all_catherine(text, specify):\n",
        "  new_text = text\n",
        "  for c in new_text:\n",
        "    if (c == specify):\n",
        "      new_text = new_text.replace(c, \"\")\n",
        "  return f'> Original string: \\n{text} \\n\\n> Remove all characters except {specify} in the said string:\\n{new_text}'\n",
        "\n",
        "text = \"\"\"January Morning: Suite 01\n",
        "I have discovered that most of\n",
        "the beauties of travel are due to\n",
        "the strange hours we keep to see them:\n",
        "\n",
        "the domes of the Church of\n",
        "the Paulist Fathers in Weehawken\n",
        "against a smoky dawn—the heart stirred —\n",
        "are beautiful as Saint Peters\n",
        "approached after years of anticipation.\"\"\"\n",
        "specify = \"a\"\n",
        "print(Remove_all_catherine(text, specify))"
      ],
      "metadata": {
        "id": "gc278TKVetxs",
        "outputId": "311a133c-8b72-414a-c21f-c06061130bc8",
        "colab": {
          "base_uri": "https://localhost:8080/"
        }
      },
      "execution_count": 241,
      "outputs": [
        {
          "output_type": "stream",
          "name": "stdout",
          "text": [
            "> Original string: \n",
            "January Morning: Suite 01\n",
            "I have discovered that most of\n",
            "the beauties of travel are due to\n",
            "the strange hours we keep to see them:\n",
            "\n",
            "the domes of the Church of\n",
            "the Paulist Fathers in Weehawken\n",
            "against a smoky dawn—the heart stirred —\n",
            "are beautiful as Saint Peters\n",
            "approached after years of anticipation. \n",
            "\n",
            "> Remove all characters except a in the said string:\n",
            "Jnury Morning: Suite 01\n",
            "I hve discovered tht most of\n",
            "the beuties of trvel re due to\n",
            "the strnge hours we keep to see them:\n",
            "\n",
            "the domes of the Church of\n",
            "the Pulist Fthers in Weehwken\n",
            "ginst  smoky dwn—the hert stirred —\n",
            "re beutiful s Sint Peters\n",
            "pproched fter yers of nticiption.\n"
          ]
        }
      ]
    },
    {
      "cell_type": "code",
      "source": [],
      "metadata": {
        "id": "XTlNHhyR6fKr"
      },
      "execution_count": null,
      "outputs": []
    }
  ],
  "metadata": {
    "kernelspec": {
      "display_name": "Python 3",
      "language": "python",
      "name": "python3"
    },
    "language_info": {
      "codemirror_mode": {
        "name": "ipython",
        "version": 3
      },
      "file_extension": ".py",
      "mimetype": "text/x-python",
      "name": "python",
      "nbconvert_exporter": "python",
      "pygments_lexer": "ipython3",
      "version": "3.13.2"
    },
    "colab": {
      "provenance": []
    }
  },
  "nbformat": 4,
  "nbformat_minor": 0
}