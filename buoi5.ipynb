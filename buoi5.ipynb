{
 "cells": [
  {
   "cell_type": "markdown",
   "id": "716e8028",
   "metadata": {},
   "source": [
    " \n",
    "<p>Tạo 1 danh sách (list) ngẫu nhiên N phần tử (N nhập từ bàn phím) có giá trị từ 1 đến 100 sau đó tạo 1 menu cho phép thực hiện các công việc sau:\n",
    "\n",
    "1. In ra danh sách vừa tạo.\n",
    "\n",
    "2. In đảo ngược danh sách.\n",
    "\n",
    "3. Sắp xếp danh sách và in ra danh sách vừa sắp xếp (dùng sorted).\n",
    "\n",
    "4. tìm phần tử lớn nhất của danh sách và vị trí phần tử lớn nhất cuối cùng.\n",
    "\n",
    "5. đếm số lượng các phần tử bằng giá trị X nhập từ bàn phím. In ra các vị trí xuất hiện.\n",
    "\n",
    "6. In ra vị trí các phần tử là số nguyên tố.\n",
    "\n",
    "7. tìm các số duy nhất (không trùng lặp) trong danh sách.\n",
    "\n",
    "8. liệt kê các giá trị xuất hiện trong mảng kèm theo số lần xuất hiện của nó.\n",
    "\n",
    "9. In ra các đoạn con trong danh sách giảm liên tiếp.</p>\n"
   ]
  },
  {
   "cell_type": "code",
   "execution_count": null,
   "id": "417ba7b5",
   "metadata": {},
   "outputs": [],
   "source": []
  }
 ],
 "metadata": {
  "language_info": {
   "name": "python"
  }
 },
 "nbformat": 4,
 "nbformat_minor": 5
}
